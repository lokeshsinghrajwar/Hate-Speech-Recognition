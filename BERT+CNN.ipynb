{
  "nbformat": 4,
  "nbformat_minor": 0,
  "metadata": {
    "colab": {
      "name": "Basic_Analysis.ipynb",
      "provenance": [],
      "collapsed_sections": []
    },
    "kernelspec": {
      "display_name": "Python 3",
      "language": "python",
      "name": "python3"
    },
    "language_info": {
      "codemirror_mode": {
        "name": "ipython",
        "version": 3
      },
      "file_extension": ".py",
      "mimetype": "text/x-python",
      "name": "python",
      "nbconvert_exporter": "python",
      "pygments_lexer": "ipython3",
      "version": "3.8.5"
    }
  },
  "cells": [
    {
      "cell_type": "code",
      "metadata": {
        "id": "FLT5vmmprIPl",
        "outputId": "7bdcc545-589b-4253-a391-47604bd975d6",
        "colab": {
          "base_uri": "https://localhost:8080/",
          "height": 573
        }
      },
      "source": [
        "!pip3 install transformers\n",
        "!pip3 install nltk\n",
        "import numpy as np\n",
        "import torch.nn as nn\n",
        "import torch\n",
        "import torch.nn.functional as F\n",
        "import transformers\n",
        "import matplotlib.pyplot as plt\n",
        "import pandas as pd\n",
        "from torch.utils.data import TensorDataset,DataLoader\n",
        "from torch.autograd import Variable\n",
        "from sklearn.metrics import accuracy_score\n",
        "import nltk\n",
        "from nltk.stem import PorterStemmer\n",
        "from nltk.corpus import stopwords\n",
        "from nltk.tokenize import word_tokenize\n",
        "import re\n",
        "\n",
        "nltk.download('punkt')\n",
        "nltk.download('stopwords')\n",
        "nltk.download('averaged_perceptron_tagger')"
      ],
      "execution_count": 5,
      "outputs": [
        {
          "output_type": "stream",
          "text": [
            "Requirement already satisfied: transformers in /usr/local/lib/python3.6/dist-packages (3.4.0)\n",
            "Requirement already satisfied: numpy in /usr/local/lib/python3.6/dist-packages (from transformers) (1.18.5)\n",
            "Requirement already satisfied: requests in /usr/local/lib/python3.6/dist-packages (from transformers) (2.23.0)\n",
            "Requirement already satisfied: sacremoses in /usr/local/lib/python3.6/dist-packages (from transformers) (0.0.43)\n",
            "Requirement already satisfied: protobuf in /usr/local/lib/python3.6/dist-packages (from transformers) (3.12.4)\n",
            "Requirement already satisfied: filelock in /usr/local/lib/python3.6/dist-packages (from transformers) (3.0.12)\n",
            "Requirement already satisfied: packaging in /usr/local/lib/python3.6/dist-packages (from transformers) (20.4)\n",
            "Requirement already satisfied: tokenizers==0.9.2 in /usr/local/lib/python3.6/dist-packages (from transformers) (0.9.2)\n",
            "Requirement already satisfied: sentencepiece!=0.1.92 in /usr/local/lib/python3.6/dist-packages (from transformers) (0.1.94)\n",
            "Requirement already satisfied: tqdm>=4.27 in /usr/local/lib/python3.6/dist-packages (from transformers) (4.41.1)\n",
            "Requirement already satisfied: dataclasses; python_version < \"3.7\" in /usr/local/lib/python3.6/dist-packages (from transformers) (0.7)\n",
            "Requirement already satisfied: regex!=2019.12.17 in /usr/local/lib/python3.6/dist-packages (from transformers) (2019.12.20)\n",
            "Requirement already satisfied: idna<3,>=2.5 in /usr/local/lib/python3.6/dist-packages (from requests->transformers) (2.10)\n",
            "Requirement already satisfied: chardet<4,>=3.0.2 in /usr/local/lib/python3.6/dist-packages (from requests->transformers) (3.0.4)\n",
            "Requirement already satisfied: urllib3!=1.25.0,!=1.25.1,<1.26,>=1.21.1 in /usr/local/lib/python3.6/dist-packages (from requests->transformers) (1.24.3)\n",
            "Requirement already satisfied: certifi>=2017.4.17 in /usr/local/lib/python3.6/dist-packages (from requests->transformers) (2020.6.20)\n",
            "Requirement already satisfied: joblib in /usr/local/lib/python3.6/dist-packages (from sacremoses->transformers) (0.17.0)\n",
            "Requirement already satisfied: click in /usr/local/lib/python3.6/dist-packages (from sacremoses->transformers) (7.1.2)\n",
            "Requirement already satisfied: six in /usr/local/lib/python3.6/dist-packages (from sacremoses->transformers) (1.15.0)\n",
            "Requirement already satisfied: setuptools in /usr/local/lib/python3.6/dist-packages (from protobuf->transformers) (50.3.0)\n",
            "Requirement already satisfied: pyparsing>=2.0.2 in /usr/local/lib/python3.6/dist-packages (from packaging->transformers) (2.4.7)\n",
            "Requirement already satisfied: nltk in /usr/local/lib/python3.6/dist-packages (3.2.5)\n",
            "Requirement already satisfied: six in /usr/local/lib/python3.6/dist-packages (from nltk) (1.15.0)\n",
            "[nltk_data] Downloading package punkt to /root/nltk_data...\n",
            "[nltk_data]   Package punkt is already up-to-date!\n",
            "[nltk_data] Downloading package stopwords to /root/nltk_data...\n",
            "[nltk_data]   Package stopwords is already up-to-date!\n",
            "[nltk_data] Downloading package averaged_perceptron_tagger to\n",
            "[nltk_data]     /root/nltk_data...\n",
            "[nltk_data]   Package averaged_perceptron_tagger is already up-to-\n",
            "[nltk_data]       date!\n"
          ],
          "name": "stdout"
        },
        {
          "output_type": "execute_result",
          "data": {
            "text/plain": [
              "True"
            ]
          },
          "metadata": {
            "tags": []
          },
          "execution_count": 5
        }
      ]
    },
    {
      "cell_type": "code",
      "metadata": {
        "id": "jNL3KaKgrIEV",
        "outputId": "374dbc8b-bd33-48f8-f23b-5208691d0f0f",
        "colab": {
          "base_uri": "https://localhost:8080/",
          "height": 34
        }
      },
      "source": [
        "from google.colab import drive\n",
        "drive.mount('drive')"
      ],
      "execution_count": 6,
      "outputs": [
        {
          "output_type": "stream",
          "text": [
            "Drive already mounted at drive; to attempt to forcibly remount, call drive.mount(\"drive\", force_remount=True).\n"
          ],
          "name": "stdout"
        }
      ]
    },
    {
      "cell_type": "code",
      "metadata": {
        "id": "0UDQUSvQ3VQK"
      },
      "source": [
        "import pandas as pd\n",
        "import numpy as np\n",
        "import torch\n",
        "import re\n",
        "import tqdm\n",
        "from matplotlib._path import (affine_transform, count_bboxes_overlapping_bbox,\n",
        "     update_path_extents)"
      ],
      "execution_count": 7,
      "outputs": []
    },
    {
      "cell_type": "code",
      "metadata": {
        "id": "WN_z0XzM3wwQ",
        "outputId": "191c56f0-c7ef-4b95-cbd1-4460579979e0",
        "colab": {
          "base_uri": "https://localhost:8080/",
          "height": 424
        }
      },
      "source": [
        "dataset=pd.read_csv('/content/drive/My Drive/dataset.csv')\n",
        "dataset.dropna(inplace = True)\n",
        "df = dataset\n",
        "dataset"
      ],
      "execution_count": 8,
      "outputs": [
        {
          "output_type": "execute_result",
          "data": {
            "text/html": [
              "<div>\n",
              "<style scoped>\n",
              "    .dataframe tbody tr th:only-of-type {\n",
              "        vertical-align: middle;\n",
              "    }\n",
              "\n",
              "    .dataframe tbody tr th {\n",
              "        vertical-align: top;\n",
              "    }\n",
              "\n",
              "    .dataframe thead th {\n",
              "        text-align: right;\n",
              "    }\n",
              "</style>\n",
              "<table border=\"1\" class=\"dataframe\">\n",
              "  <thead>\n",
              "    <tr style=\"text-align: right;\">\n",
              "      <th></th>\n",
              "      <th>id</th>\n",
              "      <th>count</th>\n",
              "      <th>hate_speech</th>\n",
              "      <th>offensive_language</th>\n",
              "      <th>neither</th>\n",
              "      <th>class</th>\n",
              "      <th>tweet</th>\n",
              "    </tr>\n",
              "  </thead>\n",
              "  <tbody>\n",
              "    <tr>\n",
              "      <th>0</th>\n",
              "      <td>0</td>\n",
              "      <td>3</td>\n",
              "      <td>0</td>\n",
              "      <td>0</td>\n",
              "      <td>3</td>\n",
              "      <td>2</td>\n",
              "      <td>!!! RT @mayasolovely: As a woman you shouldn't...</td>\n",
              "    </tr>\n",
              "    <tr>\n",
              "      <th>1</th>\n",
              "      <td>1</td>\n",
              "      <td>3</td>\n",
              "      <td>0</td>\n",
              "      <td>3</td>\n",
              "      <td>0</td>\n",
              "      <td>1</td>\n",
              "      <td>!!!!! RT @mleew17: boy dats cold...tyga dwn ba...</td>\n",
              "    </tr>\n",
              "    <tr>\n",
              "      <th>2</th>\n",
              "      <td>2</td>\n",
              "      <td>3</td>\n",
              "      <td>0</td>\n",
              "      <td>3</td>\n",
              "      <td>0</td>\n",
              "      <td>1</td>\n",
              "      <td>!!!!!!! RT @UrKindOfBrand Dawg!!!! RT @80sbaby...</td>\n",
              "    </tr>\n",
              "    <tr>\n",
              "      <th>3</th>\n",
              "      <td>3</td>\n",
              "      <td>3</td>\n",
              "      <td>0</td>\n",
              "      <td>2</td>\n",
              "      <td>1</td>\n",
              "      <td>1</td>\n",
              "      <td>!!!!!!!!! RT @C_G_Anderson: @viva_based she lo...</td>\n",
              "    </tr>\n",
              "    <tr>\n",
              "      <th>4</th>\n",
              "      <td>4</td>\n",
              "      <td>6</td>\n",
              "      <td>0</td>\n",
              "      <td>6</td>\n",
              "      <td>0</td>\n",
              "      <td>1</td>\n",
              "      <td>!!!!!!!!!!!!! RT @ShenikaRoberts: The shit you...</td>\n",
              "    </tr>\n",
              "    <tr>\n",
              "      <th>...</th>\n",
              "      <td>...</td>\n",
              "      <td>...</td>\n",
              "      <td>...</td>\n",
              "      <td>...</td>\n",
              "      <td>...</td>\n",
              "      <td>...</td>\n",
              "      <td>...</td>\n",
              "    </tr>\n",
              "    <tr>\n",
              "      <th>24778</th>\n",
              "      <td>25291</td>\n",
              "      <td>3</td>\n",
              "      <td>0</td>\n",
              "      <td>2</td>\n",
              "      <td>1</td>\n",
              "      <td>1</td>\n",
              "      <td>you's a muthaf***in lie &amp;#8220;@LifeAsKing: @2...</td>\n",
              "    </tr>\n",
              "    <tr>\n",
              "      <th>24779</th>\n",
              "      <td>25292</td>\n",
              "      <td>3</td>\n",
              "      <td>0</td>\n",
              "      <td>1</td>\n",
              "      <td>2</td>\n",
              "      <td>2</td>\n",
              "      <td>you've gone and broke the wrong heart baby, an...</td>\n",
              "    </tr>\n",
              "    <tr>\n",
              "      <th>24780</th>\n",
              "      <td>25294</td>\n",
              "      <td>3</td>\n",
              "      <td>0</td>\n",
              "      <td>3</td>\n",
              "      <td>0</td>\n",
              "      <td>1</td>\n",
              "      <td>young buck wanna eat!!.. dat nigguh like I ain...</td>\n",
              "    </tr>\n",
              "    <tr>\n",
              "      <th>24781</th>\n",
              "      <td>25295</td>\n",
              "      <td>6</td>\n",
              "      <td>0</td>\n",
              "      <td>6</td>\n",
              "      <td>0</td>\n",
              "      <td>1</td>\n",
              "      <td>youu got wild bitches tellin you lies</td>\n",
              "    </tr>\n",
              "    <tr>\n",
              "      <th>24782</th>\n",
              "      <td>25296</td>\n",
              "      <td>3</td>\n",
              "      <td>0</td>\n",
              "      <td>0</td>\n",
              "      <td>3</td>\n",
              "      <td>2</td>\n",
              "      <td>~~Ruffled | Ntac Eileen Dahlia - Beautiful col...</td>\n",
              "    </tr>\n",
              "  </tbody>\n",
              "</table>\n",
              "<p>24783 rows × 7 columns</p>\n",
              "</div>"
            ],
            "text/plain": [
              "          id  count  ...  class                                              tweet\n",
              "0          0      3  ...      2  !!! RT @mayasolovely: As a woman you shouldn't...\n",
              "1          1      3  ...      1  !!!!! RT @mleew17: boy dats cold...tyga dwn ba...\n",
              "2          2      3  ...      1  !!!!!!! RT @UrKindOfBrand Dawg!!!! RT @80sbaby...\n",
              "3          3      3  ...      1  !!!!!!!!! RT @C_G_Anderson: @viva_based she lo...\n",
              "4          4      6  ...      1  !!!!!!!!!!!!! RT @ShenikaRoberts: The shit you...\n",
              "...      ...    ...  ...    ...                                                ...\n",
              "24778  25291      3  ...      1  you's a muthaf***in lie &#8220;@LifeAsKing: @2...\n",
              "24779  25292      3  ...      2  you've gone and broke the wrong heart baby, an...\n",
              "24780  25294      3  ...      1  young buck wanna eat!!.. dat nigguh like I ain...\n",
              "24781  25295      6  ...      1              youu got wild bitches tellin you lies\n",
              "24782  25296      3  ...      2  ~~Ruffled | Ntac Eileen Dahlia - Beautiful col...\n",
              "\n",
              "[24783 rows x 7 columns]"
            ]
          },
          "metadata": {
            "tags": []
          },
          "execution_count": 8
        }
      ]
    },
    {
      "cell_type": "code",
      "metadata": {
        "id": "W6ADkaNo5QhW",
        "outputId": "8115dae6-85ea-4279-c192-00ea25c0e5d8",
        "colab": {
          "base_uri": "https://localhost:8080/",
          "height": 121
        }
      },
      "source": [
        "print(\"number of tweets belonging to classes 0,1 and 2\")\n",
        "dataset.groupby('class')['id'].nunique()\n"
      ],
      "execution_count": 9,
      "outputs": [
        {
          "output_type": "stream",
          "text": [
            "number of tweets belonging to classes 0,1 and 2\n"
          ],
          "name": "stdout"
        },
        {
          "output_type": "execute_result",
          "data": {
            "text/plain": [
              "class\n",
              "0     1430\n",
              "1    19190\n",
              "2     4163\n",
              "Name: id, dtype: int64"
            ]
          },
          "metadata": {
            "tags": []
          },
          "execution_count": 9
        }
      ]
    },
    {
      "cell_type": "code",
      "metadata": {
        "id": "HNzXYxq96GI8",
        "outputId": "24e43fac-8938-429e-ed09-ddeced12890a",
        "colab": {
          "base_uri": "https://localhost:8080/",
          "height": 309
        }
      },
      "source": [
        "dataset.groupby('class')['id'].nunique().plot(kind='bar',title='Plot of number of tweets belonging to a particular class')"
      ],
      "execution_count": 10,
      "outputs": [
        {
          "output_type": "execute_result",
          "data": {
            "text/plain": [
              "<matplotlib.axes._subplots.AxesSubplot at 0x7f6af1c2f748>"
            ]
          },
          "metadata": {
            "tags": []
          },
          "execution_count": 10
        },
        {
          "output_type": "display_data",
          "data": {
            "image/png": "[encoded data removed]",
            "text/plain": [
              "<Figure size 432x288 with 1 Axes>"
            ]
          },
          "metadata": {
            "tags": [],
            "needs_background": "light"
          }
        }
      ]
    },
    {
      "cell_type": "markdown",
      "metadata": {
        "id": "zM4BnF7ETQUN"
      },
      "source": [
        "# **Data Cleaning**"
      ]
    },
    {
      "cell_type": "code",
      "metadata": {
        "id": "12kKtei07Cby"
      },
      "source": [
        "from nltk import tokenize\n",
        "from nltk.corpus import stopwords\n",
        "from nltk.tokenize import word_tokenize \n",
        "\n",
        "from gensim.models import Word2Vec\n",
        "\n",
        "from sklearn.model_selection import train_test_split"
      ],
      "execution_count": 11,
      "outputs": []
    },
    {
      "cell_type": "code",
      "metadata": {
        "id": "57lpaYlZ7W6b",
        "outputId": "a887aa57-c1c1-4780-99a2-77f6fea3c92b",
        "colab": {
          "base_uri": "https://localhost:8080/",
          "height": 69
        }
      },
      "source": [
        "import nltk\n",
        "nltk.download('stopwords')"
      ],
      "execution_count": 12,
      "outputs": [
        {
          "output_type": "stream",
          "text": [
            "[nltk_data] Downloading package stopwords to /root/nltk_data...\n",
            "[nltk_data]   Package stopwords is already up-to-date!\n"
          ],
          "name": "stdout"
        },
        {
          "output_type": "execute_result",
          "data": {
            "text/plain": [
              "True"
            ]
          },
          "metadata": {
            "tags": []
          },
          "execution_count": 12
        }
      ]
    },
    {
      "cell_type": "code",
      "metadata": {
        "id": "D-NFmeRM7E1T"
      },
      "source": [
        "stop_words= set(stopwords.words('english'))"
      ],
      "execution_count": 13,
      "outputs": []
    },
    {
      "cell_type": "code",
      "metadata": {
        "id": "SRolts2eQtWd",
        "outputId": "1905809c-66d4-4bcb-82ed-aed9289acbe4",
        "colab": {
          "base_uri": "https://localhost:8080/",
          "height": 69
        }
      },
      "source": [
        "import nltk\n",
        "nltk.download('punkt')"
      ],
      "execution_count": 14,
      "outputs": [
        {
          "output_type": "stream",
          "text": [
            "[nltk_data] Downloading package punkt to /root/nltk_data...\n",
            "[nltk_data]   Package punkt is already up-to-date!\n"
          ],
          "name": "stdout"
        },
        {
          "output_type": "execute_result",
          "data": {
            "text/plain": [
              "True"
            ]
          },
          "metadata": {
            "tags": []
          },
          "execution_count": 14
        }
      ]
    },
    {
      "cell_type": "code",
      "metadata": {
        "id": "1Ks21idy7j8b"
      },
      "source": [
        "def clean_tweet(tweet):\n",
        "    tweet = re.sub(\"#\", \"\",tweet) # Removing '#' from hashtags\n",
        "    tweet = re.sub(\"[^a-zA-Z#]\", \" \",tweet) # Removing punctuation and special characters\n",
        "    tweet = re.sub(r'http[s]?://(?:[a-z]|[0-9]|[$-_@.&amp;+]|[!*\\(\\),]|(?:%[0-9a-f][0-9a-f]))+',\"<URL>\", tweet)\n",
        "    tweet = re.sub('http','',tweet)\n",
        "    tweet = re.sub(\" +\", \" \", tweet)\n",
        "    tweet = tweet.lower()\n",
        "    tweet = word_tokenize(tweet)\n",
        "    return_tweet=[]\n",
        "    for word in tweet:\n",
        "        if word not in stop_words:\n",
        "            return_tweet.append(word)\n",
        "    return return_tweet\n",
        "dataset[\"tweet\"]=dataset[\"tweet\"].apply(clean_tweet)"
      ],
      "execution_count": 15,
      "outputs": []
    },
    {
      "cell_type": "markdown",
      "metadata": {
        "id": "fW-CYEDDRX9s"
      },
      "source": [
        "\n",
        "# **Word2Vec model to get the word embedings.**"
      ]
    },
    {
      "cell_type": "code",
      "metadata": {
        "id": "KVAUlPTgRdiP"
      },
      "source": [
        "model = Word2Vec(dataset[\"tweet\"].values, size=50, window=5, min_count=1, workers=4)"
      ],
      "execution_count": 16,
      "outputs": []
    },
    {
      "cell_type": "code",
      "metadata": {
        "id": "iQAlyU7DRmDT"
      },
      "source": [
        "def get_features(tweet):\n",
        "    features=[]\n",
        "    for word in tweet:\n",
        "        features.append(model.wv[word])\n",
        "    return np.mean(features,0)"
      ],
      "execution_count": 17,
      "outputs": []
    },
    {
      "cell_type": "code",
      "metadata": {
        "id": "PAF7_UcoRurV"
      },
      "source": [
        "dataset[\"features\"]=dataset[\"tweet\"].apply(get_features)"
      ],
      "execution_count": 18,
      "outputs": []
    },
    {
      "cell_type": "code",
      "metadata": {
        "id": "7ePsy5cHSBkl"
      },
      "source": [
        "data=[]\n",
        "for i in dataset[\"features\"].values:\n",
        "    temp=[]\n",
        "    for j in i:\n",
        "        temp.append(j)\n",
        "    data.append(temp)\n",
        "data=np.array(data)"
      ],
      "execution_count": 19,
      "outputs": []
    },
    {
      "cell_type": "code",
      "metadata": {
        "id": "k04GkOghSHrk"
      },
      "source": [
        "from sklearn.preprocessing import label_binarize\n",
        "\n",
        "Y = label_binarize(dataset[\"class\"].values, classes=[0, 1, 2])\n",
        "n_classes = Y.shape[1]\n",
        "X_train, X_test, y_train, y_test = train_test_split(data, Y, test_size=0.2, random_state=42)"
      ],
      "execution_count": 20,
      "outputs": []
    },
    {
      "cell_type": "code",
      "metadata": {
        "id": "hIeqtdzwSbKM",
        "outputId": "545cbfd3-6ec9-4b0c-ba9f-282702e3720f",
        "colab": {
          "base_uri": "https://localhost:8080/",
          "height": 364
        }
      },
      "source": [
        "print(X_train)\n",
        "print(y_train)"
      ],
      "execution_count": 21,
      "outputs": [
        {
          "output_type": "stream",
          "text": [
            "[[-0.2618981  -0.91191065  0.16393313 ... -1.0458531   0.1175053\n",
            "  -0.6806985 ]\n",
            " [-0.30419624 -1.0619016   0.2034573  ... -1.246319    0.12054849\n",
            "  -0.8084273 ]\n",
            " [-0.26861772 -0.8904835   0.17159379 ... -1.0378503   0.12913723\n",
            "  -0.6972075 ]\n",
            " ...\n",
            " [-0.15685008 -0.6682951   0.07600575 ... -0.85604876  0.12419172\n",
            "  -0.4821922 ]\n",
            " [-0.20982085 -0.7158232   0.12269703 ... -0.8366621   0.09397312\n",
            "  -0.53471065]\n",
            " [-0.38170856 -1.2703182   0.25691336 ... -1.4234021   0.18803905\n",
            "  -0.99437493]]\n",
            "[[1 0 0]\n",
            " [0 0 1]\n",
            " [0 1 0]\n",
            " ...\n",
            " [0 1 0]\n",
            " [0 1 0]\n",
            " [0 1 0]]\n"
          ],
          "name": "stdout"
        }
      ]
    },
    {
      "cell_type": "markdown",
      "metadata": {
        "id": "tOyIgHzISsAT"
      },
      "source": [
        "# **LOGISTIC REGRESSION MODEL**"
      ]
    },
    {
      "cell_type": "code",
      "metadata": {
        "id": "SN5UHd_PSwxG"
      },
      "source": [
        "from sklearn.linear_model import LogisticRegression\n",
        "from sklearn.multiclass import OneVsRestClassifier\n",
        "from sklearn import svm\n",
        "from sklearn.metrics import f1_score\n",
        "from sklearn.metrics import recall_score\n",
        "from sklearn.metrics import precision_score\n",
        "from sklearn.metrics import precision_recall_curve\n",
        "import matplotlib.pyplot as plt\n",
        "import warnings\n",
        "warnings.filterwarnings('ignore')"
      ],
      "execution_count": 22,
      "outputs": []
    },
    {
      "cell_type": "code",
      "metadata": {
        "id": "Uk19QYlqS1w2",
        "outputId": "46c21431-0c0e-43c0-a277-893678318fa7",
        "colab": {
          "base_uri": "https://localhost:8080/",
          "height": 364
        }
      },
      "source": [
        "lr_clf = OneVsRestClassifier(LogisticRegression(random_state=0, solver='lbfgs',multi_class='multinomial'))\n",
        "lr_clf.fit(X_train,y_train)\n",
        "y_pred = lr_clf.predict(X_test)\n",
        "f = f1_score(y_test, y_pred, average='micro')\n",
        "print(\"F1 Score: \", f)\n",
        "p = precision_score(y_test, y_pred, average='micro')\n",
        "print(\"Precision Score: \", p)\n",
        "r = recall_score(y_test, y_pred, average='micro')\n",
        "print(\"Recall Score: \", r)\n",
        "print(\"Accuracy: \", lr_clf.score(X_test,y_test))\n",
        "\n",
        "y_score = lr_clf.predict_proba(X_test)\n",
        "precision = dict()\n",
        "recall = dict()\n",
        "for i in range(n_classes):\n",
        "    precision[i], recall[i], _ = precision_recall_curve(y_test[:, i],\n",
        "                                                        y_score[:, i])\n",
        "    plt.plot(recall[i], precision[i], lw=2, label='class {}'.format(i))\n",
        "\n",
        "plt.xlabel(\"Recall\")\n",
        "plt.ylabel(\"Precision\")\n",
        "plt.legend(loc = \"best\")\n",
        "plt.title(\"Precision vs. Recall curve\")\n",
        "plt.show()"
      ],
      "execution_count": 23,
      "outputs": [
        {
          "output_type": "stream",
          "text": [
            "F1 Score:  0.8400412796697627\n",
            "Precision Score:  0.8599197126558208\n",
            "Recall Score:  0.8210611256808553\n",
            "Accuracy:  0.8204559209199113\n"
          ],
          "name": "stdout"
        },
        {
          "output_type": "display_data",
          "data": {
            "image/png": "[encoded data removed]",
            "text/plain": [
              "<Figure size 432x288 with 1 Axes>"
            ]
          },
          "metadata": {
            "tags": [],
            "needs_background": "light"
          }
        }
      ]
    },
    {
      "cell_type": "markdown",
      "metadata": {
        "id": "wwwhdkyWTbc0"
      },
      "source": [
        "# ***SVM MODEL***"
      ]
    },
    {
      "cell_type": "code",
      "metadata": {
        "id": "O3NHcj2_Texm",
        "outputId": "4649c727-e0bc-4610-f001-6b74211328c0",
        "colab": {
          "base_uri": "https://localhost:8080/",
          "height": 364
        }
      },
      "source": [
        "svm_clf = OneVsRestClassifier(svm.SVC(gamma='scale', probability=True))\n",
        "svm_clf.fit(X_train,y_train)\n",
        "y_pred = svm_clf.predict(X_test)\n",
        "f = f1_score(y_test, y_pred, average='micro')\n",
        "print(\"F1 Score: \", f)\n",
        "p = precision_score(y_test, y_pred, average='micro')\n",
        "print(\"Precision Score: \", p)\n",
        "r = recall_score(y_test, y_pred, average='micro')\n",
        "print(\"Recall Score: \", r)\n",
        "print(\"Accuracy: \", svm_clf.score(X_test,y_test))\n",
        "\n",
        "y_score = svm_clf.predict_proba(X_test)\n",
        "precision = dict()\n",
        "recall = dict()\n",
        "for i in range(n_classes):\n",
        "    precision[i], recall[i], _ = precision_recall_curve(y_test[:, i],\n",
        "                                                        y_score[:, i])\n",
        "    plt.plot(recall[i], precision[i], lw=2, label='class {}'.format(i))\n",
        "\n",
        "plt.xlabel(\"Recall\")\n",
        "plt.ylabel(\"Precision\")\n",
        "plt.legend(loc = \"center right\")\n",
        "plt.title(\"Precision vs. Recall curve\")\n",
        "plt.show()"
      ],
      "execution_count": 24,
      "outputs": [
        {
          "output_type": "stream",
          "text": [
            "F1 Score:  0.8023024594453164\n",
            "Precision Score:  0.8336233144845585\n",
            "Recall Score:  0.7732499495662699\n",
            "Accuracy:  0.7732499495662699\n"
          ],
          "name": "stdout"
        },
        {
          "output_type": "display_data",
          "data": {
            "image/png": "[encoded data removed]",
            "text/plain": [
              "<Figure size 432x288 with 1 Axes>"
            ]
          },
          "metadata": {
            "tags": [],
            "needs_background": "light"
          }
        }
      ]
    },
    {
      "cell_type": "markdown",
      "metadata": {
        "id": "PILAVMwP6wwS"
      },
      "source": [
        "## BERT + CNN\n"
      ]
    },
    {
      "cell_type": "markdown",
      "metadata": {
        "id": "KXUTtuVlC9zN"
      },
      "source": [
        "### Data Cleaning for BERT"
      ]
    },
    {
      "cell_type": "code",
      "metadata": {
        "id": "NBrNl2CQRGR5"
      },
      "source": [
        "model_class = transformers.BertModel\n",
        "tokenizer_class = transformers.BertTokenizer\n",
        "pretrained_weights = 'bert-base-uncased'\n",
        "\n",
        "tokenizer = tokenizer_class.from_pretrained(pretrained_weights)\n",
        "bert_model = model_class.from_pretrained(pretrained_weights)"
      ],
      "execution_count": 25,
      "outputs": []
    },
    {
      "cell_type": "code",
      "metadata": {
        "id": "oEJj4o4C610k"
      },
      "source": [
        "max_seq = 27\n",
        "def tokenize_text(df, max_seq):\n",
        "    return [\n",
        "        tokenizer.encode(text, add_special_tokens=True)[:max_seq] for text in df[\"tweet\"].values\n",
        "    ]\n",
        "def pad_text(tokenized_text, max_seq):\n",
        "    return np.array([el + [0] * (max_seq - len(el)) for el in tokenized_text])\n",
        "def tokenize_and_pad_text(df, max_seq):\n",
        "    tokenized_text = tokenize_text(df, max_seq)\n",
        "    padded_text = pad_text(tokenized_text, max_seq)\n",
        "    return torch.tensor(padded_text)\n",
        "def targets_to_tensor(df, target_columns):\n",
        "    return torch.tensor(df[target_columns].values, dtype=torch.float32)"
      ],
      "execution_count": 28,
      "outputs": []
    },
    {
      "cell_type": "code",
      "metadata": {
        "id": "O1HjN9bmAuA4",
        "outputId": "f243d397-6e8f-428b-ab9a-5c59e77ca83a",
        "colab": {
          "base_uri": "https://localhost:8080/",
          "height": 34
        }
      },
      "source": [
        "max = 0\n",
        "for i in dataset[\"tweet\"]:\n",
        "  if len(i) > max:\n",
        "    max = len(i)\n",
        "print(max)"
      ],
      "execution_count": 27,
      "outputs": [
        {
          "output_type": "stream",
          "text": [
            "31\n"
          ],
          "name": "stdout"
        }
      ]
    },
    {
      "cell_type": "code",
      "metadata": {
        "id": "W26djDa9PrOD"
      },
      "source": [
        "for i in range(0,len(dataset[\"tweet\"])):\n",
        "  dataset[\"tweet\"][i] = \" \".join(dataset[\"tweet\"][i])"
      ],
      "execution_count": 29,
      "outputs": []
    },
    {
      "cell_type": "code",
      "metadata": {
        "id": "1XHBw-khQTN7",
        "outputId": "2b2824ca-ca07-4a73-c606-ecd12f695f7b",
        "colab": {
          "base_uri": "https://localhost:8080/",
          "height": 225
        }
      },
      "source": [
        "dataset[\"tweet\"]"
      ],
      "execution_count": 30,
      "outputs": [
        {
          "output_type": "execute_result",
          "data": {
            "text/plain": [
              "0        rt mayasolovely woman complain cleaning house ...\n",
              "1        rt mleew boy dats cold tyga dwn bad cuffin dat...\n",
              "2        rt urkindofbrand dawg rt sbaby life ever fuck ...\n",
              "3              rt c g anderson viva based look like tranny\n",
              "4        rt shenikaroberts shit hear might true might f...\n",
              "                               ...                        \n",
              "24778    muthaf lie lifeasking pearls corey emanuel rig...\n",
              "24779      gone broke wrong heart baby drove redneck crazy\n",
              "24780    young buck wan na eat dat nigguh like aint fuc...\n",
              "24781                    youu got wild bitches tellin lies\n",
              "24782    ruffled ntac eileen dahlia beautiful color com...\n",
              "Name: tweet, Length: 24783, dtype: object"
            ]
          },
          "metadata": {
            "tags": []
          },
          "execution_count": 30
        }
      ]
    },
    {
      "cell_type": "code",
      "metadata": {
        "id": "9d9rOWwpC8_E"
      },
      "source": [
        "indices = tokenize_and_pad_text(dataset, max_seq)\n",
        "\n",
        "[no,_] = list(indices.shape)"
      ],
      "execution_count": 31,
      "outputs": []
    },
    {
      "cell_type": "code",
      "metadata": {
        "id": "5flY92kiDNRn"
      },
      "source": [
        "stepSize = 32\n",
        "X = np.empty([0,max_seq,768])\n",
        "\n",
        "for i in range(0,no,stepSize):\n",
        "  if no - i <= stepSize:\n",
        "    n = no\n",
        "  else:\n",
        "    n = i+stepSize\n",
        "  with torch.no_grad():\n",
        "    x = bert_model(indices[i:n,:])[0].detach().numpy()\n",
        "  X = np.vstack([X,x])"
      ],
      "execution_count": 32,
      "outputs": []
    },
    {
      "cell_type": "code",
      "metadata": {
        "id": "e58kVP56BLsJ"
      },
      "source": [
        "label_col = [\"class\"]\n",
        "Y = targets_to_tensor(dataset,label_col)"
      ],
      "execution_count": 33,
      "outputs": []
    },
    {
      "cell_type": "code",
      "metadata": {
        "id": "9_BhC_f2XtT-"
      },
      "source": [
        "x_train,x_val,y_train,y_val = train_test_split(X,Y,test_size=0.2,random_state=42)\n",
        "x_train = torch.tensor(x_train,dtype=torch.float32)\n",
        "x_val = torch.tensor(x_val,dtype=torch.float32)"
      ],
      "execution_count": 34,
      "outputs": []
    },
    {
      "cell_type": "code",
      "metadata": {
        "id": "0PHJcfdQXtPf"
      },
      "source": [
        "loss_func = nn.CrossEntropyLoss()"
      ],
      "execution_count": 35,
      "outputs": []
    },
    {
      "cell_type": "code",
      "metadata": {
        "id": "MvOBi0ILXtDq"
      },
      "source": [
        "class HTSPC_CNN(nn.Module):\n",
        "    def __init__(self,embed_num,embed_dim,class_num,kernel_num,kernel_sizes,dropout,static):\n",
        "        super(HTSPC_CNN, self).__init__()\n",
        "        \n",
        "        V = embed_num\n",
        "        D = embed_dim\n",
        "        C = class_num\n",
        "        Co = kernel_num\n",
        "        Ks = kernel_sizes\n",
        "        \n",
        "        self.static = static\n",
        "        self.emed_layer = nn.Embedding(V, D)\n",
        "        \n",
        "        self.conv1 = nn.ModuleList([nn.Conv2d(1,Co,(K, D)) for K in Ks])\n",
        "        self.dropout = nn.Dropout(dropout)\n",
        "        \n",
        "        self.lin1 = nn.Linear(len(Ks)* Co, 3)\n",
        "        self.sigmoid = nn.Sigmoid()\n",
        "        \n",
        "        \n",
        "    def forward(self,xb):\n",
        "        if self.static:\n",
        "            x = Variable(xb)\n",
        "        x = x.unsqueeze(1)\n",
        "        \n",
        "        x = [F.relu(conv(x)).squeeze(3) for conv in self.conv1]\n",
        "        x = [F.max_pool1d(i, i.size(2)).squeeze(2) for i in x]\n",
        "        \n",
        "        x = torch.cat(x, 1)\n",
        "        x = self.dropout(x)\n",
        "        x = self.lin1(x)\n",
        "        return x"
      ],
      "execution_count": 36,
      "outputs": []
    },
    {
      "cell_type": "code",
      "metadata": {
        "id": "Ou_P5bKjaMO6"
      },
      "source": [
        "def loss_batch(model, loss_func, xb, yb, opt=None):\n",
        "    yb = yb.squeeze_()\n",
        "    # print(model(xb).squeeze_())\n",
        "    # print(yb)  \n",
        "    loss = loss_func(model(xb.float()), yb.long())\n",
        "\n",
        "    if opt is not None:\n",
        "        loss.backward()\n",
        "        opt.step()\n",
        "        opt.zero_grad()\n",
        "\n",
        "    return loss.item(), len(xb)"
      ],
      "execution_count": 37,
      "outputs": []
    },
    {
      "cell_type": "code",
      "metadata": {
        "id": "NX-31bMeaPVi"
      },
      "source": [
        "def fit(epochs, model, loss_func, opt, train_dl, valid_dl):\n",
        "    for epoch in range(epochs):\n",
        "        model.train()\n",
        "        for xb, yb in train_dl:\n",
        "            loss_batch(model, loss_func, xb, yb, opt)\n",
        "\n",
        "        model.eval()\n",
        "        with torch.no_grad():\n",
        "            losses, nums = zip(\n",
        "                *[loss_batch(model, loss_func, xb, yb) for xb, yb in valid_dl]\n",
        "            )\n",
        "        val_loss = np.sum(np.multiply(losses, nums)) / np.sum(nums)\n",
        "\n",
        "        print(epoch, val_loss)\n"
      ],
      "execution_count": 38,
      "outputs": []
    },
    {
      "cell_type": "code",
      "metadata": {
        "id": "dRPvTmP1aPSx"
      },
      "source": [
        "def get_data(train_ds, valid_ds, bs):\n",
        "    return (\n",
        "        DataLoader(train_ds, batch_size=bs, shuffle=True),\n",
        "        DataLoader(valid_ds, batch_size=bs * 2),\n",
        "    )"
      ],
      "execution_count": 39,
      "outputs": []
    },
    {
      "cell_type": "code",
      "metadata": {
        "id": "sQudZUtYaPP5",
        "outputId": "ec7823fc-cd27-4c0e-8298-c2c9fb139295",
        "colab": {
          "base_uri": "https://localhost:8080/",
          "height": 903
        }
      },
      "source": [
        "bs = 128\n",
        "epochs = 50\n",
        "learning_rate = 0.0001\n",
        "\n",
        "train_dataset = TensorDataset(x_train, y_train)\n",
        "valid_dataset = TensorDataset(x_val  , y_val  )\n",
        "\n",
        "embed_num = x_train.shape[1]\n",
        "embed_dim = x_train.shape[2]\n",
        "class_num = y_train.shape[1]\n",
        "\n",
        "print(class_num)\n",
        "\n",
        "kernel_num = 3\n",
        "kernel_sizes = [2, 3, 4]\n",
        "dropout = 0.5\n",
        "static = True\n",
        "\n",
        "train_dl, valid_dl = get_data(train_dataset, valid_dataset, bs)\n",
        "model = HTSPC_CNN(embed_num,embed_dim,class_num,kernel_num,kernel_sizes,dropout,static)\n",
        "\n",
        "opt = torch.optim.Adam(model.parameters(), lr = learning_rate)\n",
        "fit(epochs, model, loss_func, opt, train_dl, valid_dl)"
      ],
      "execution_count": 40,
      "outputs": [
        {
          "output_type": "stream",
          "text": [
            "1\n",
            "0 0.6177881338109599\n",
            "1 0.5606296031025838\n",
            "2 0.5015914744551152\n",
            "3 0.4595446059341654\n",
            "4 0.43343128126572283\n",
            "5 0.41492678283057866\n",
            "6 0.39971939215670677\n",
            "7 0.38703847130760927\n",
            "8 0.37918721081714174\n",
            "9 0.37224167034057015\n",
            "10 0.3636209831793077\n",
            "11 0.3578376648182924\n",
            "12 0.3555257002360306\n",
            "13 0.3503401718397931\n",
            "14 0.34641668078746435\n",
            "15 0.343179079116485\n",
            "16 0.34052521378156614\n",
            "17 0.33983539230933657\n",
            "18 0.33501077363249127\n",
            "19 0.3339723445623903\n",
            "20 0.33050786896665324\n",
            "21 0.3299489816981793\n",
            "22 0.3288372553462628\n",
            "23 0.32562624937119156\n",
            "24 0.3236100990607033\n",
            "25 0.32440494844719653\n",
            "26 0.32310842105054266\n",
            "27 0.3180272705057876\n",
            "28 0.32168451011697924\n",
            "29 0.3187376021443054\n",
            "30 0.3179127459435158\n",
            "31 0.3176178543863937\n",
            "32 0.3152233020887034\n",
            "33 0.3158329610763742\n",
            "34 0.3138306505868385\n",
            "35 0.3135972200429365\n",
            "36 0.3124742731797688\n",
            "37 0.31021642889350276\n",
            "38 0.3112130697718161\n",
            "39 0.30892571614518244\n",
            "40 0.3088656943009605\n",
            "41 0.309112524974844\n",
            "42 0.3076518483434398\n",
            "43 0.30769370224522996\n",
            "44 0.3101386578965144\n",
            "45 0.3069757087645041\n",
            "46 0.307766345799847\n",
            "47 0.30639919136617605\n",
            "48 0.30882312391995664\n",
            "49 0.30323739486919526\n"
          ],
          "name": "stdout"
        }
      ]
    },
    {
      "cell_type": "code",
      "metadata": {
        "id": "NUfVnuXcvM7v"
      },
      "source": [
        "_,preds = torch.max(model(x_val),1)"
      ],
      "execution_count": 41,
      "outputs": []
    },
    {
      "cell_type": "code",
      "metadata": {
        "id": "4F4Rf01qaPMO",
        "outputId": "a2312b54-1257-4bbf-92cc-f5203ce88575",
        "colab": {
          "base_uri": "https://localhost:8080/",
          "height": 34
        }
      },
      "source": [
        "print(accuracy_score(preds.detach().numpy(),y_val.detach().numpy()))"
      ],
      "execution_count": 42,
      "outputs": [
        {
          "output_type": "stream",
          "text": [
            "0.8850110954206173\n"
          ],
          "name": "stdout"
        }
      ]
    },
    {
      "cell_type": "code",
      "metadata": {
        "id": "4OTxe9QUaPI_",
        "outputId": "e80bd974-d67f-4fea-b308-f82274d4bd39",
        "colab": {
          "base_uri": "https://localhost:8080/",
          "height": 69
        }
      },
      "source": [
        "f = f1_score(preds.detach().numpy(),y_val.detach().numpy(), average='weighted')\n",
        "print(\"F1 Score: \", f)\n",
        "p = precision_score(preds.detach().numpy(),y_val.detach().numpy(), average='weighted')\n",
        "print(\"Precision Score: \", p)\n",
        "r = recall_score(preds.detach().numpy(),y_val.detach().numpy(), average='micro')\n",
        "print(\"Recall Score: \", r)"
      ],
      "execution_count": 47,
      "outputs": [
        {
          "output_type": "stream",
          "text": [
            "F1 Score:  0.9090087527856712\n",
            "Precision Score:  0.9373082700909072\n",
            "Recall Score:  0.8850110954206173\n"
          ],
          "name": "stdout"
        }
      ]
    }
  ]
}