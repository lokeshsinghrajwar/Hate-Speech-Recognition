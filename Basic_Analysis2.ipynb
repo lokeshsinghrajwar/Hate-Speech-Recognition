{
  "nbformat": 4,
  "nbformat_minor": 0,
  "metadata": {
    "colab": {
      "name": "Basic_Analysis.ipynb",
      "provenance": [],
      "collapsed_sections": []
    },
    "kernelspec": {
      "display_name": "Python 3",
      "language": "python",
      "name": "python3"
    },
    "language_info": {
      "codemirror_mode": {
        "name": "ipython",
        "version": 3
      },
      "file_extension": ".py",
      "mimetype": "text/x-python",
      "name": "python",
      "nbconvert_exporter": "python",
      "pygments_lexer": "ipython3",
      "version": "3.8.5"
    }
  },
  "cells": [
    {
      "cell_type": "code",
      "metadata": {
        "id": "0UDQUSvQ3VQK"
      },
      "source": [
        "import pandas as pd\n",
        "import numpy as np\n",
        "import torch\n",
        "import re\n",
        "import tqdm\n",
        "from matplotlib._path import (affine_transform, count_bboxes_overlapping_bbox,\n",
        "     update_path_extents)"
      ],
      "execution_count": 37,
      "outputs": []
    },
    {
      "cell_type": "code",
      "metadata": {
        "id": "Lj4Jwi82f6zL",
        "outputId": "cb74688a-ac46-4e0c-d6dd-8559614fdff3",
        "colab": {
          "base_uri": "https://localhost:8080/"
        }
      },
      "source": [
        "from google.colab import drive\n",
        "drive.mount('/content/drive')"
      ],
      "execution_count": 38,
      "outputs": [
        {
          "output_type": "stream",
          "text": [
            "Drive already mounted at /content/drive; to attempt to forcibly remount, call drive.mount(\"/content/drive\", force_remount=True).\n"
          ],
          "name": "stdout"
        }
      ]
    },
    {
      "cell_type": "code",
      "metadata": {
        "id": "WN_z0XzM3wwQ",
        "outputId": "04021da6-981e-43ca-c9d7-bcc9fad5f856",
        "colab": {
          "base_uri": "https://localhost:8080/",
          "height": 580
        }
      },
      "source": [
        "dataset=pd.read_csv('/content/drive/My Drive/dataset.csv')\n",
        "dataset.dropna(inplace = True)\n",
        "dataset"
      ],
      "execution_count": 39,
      "outputs": [
        {
          "output_type": "execute_result",
          "data": {
            "text/html": [
              "<div>\n",
              "<style scoped>\n",
              "    .dataframe tbody tr th:only-of-type {\n",
              "        vertical-align: middle;\n",
              "    }\n",
              "\n",
              "    .dataframe tbody tr th {\n",
              "        vertical-align: top;\n",
              "    }\n",
              "\n",
              "    .dataframe thead th {\n",
              "        text-align: right;\n",
              "    }\n",
              "</style>\n",
              "<table border=\"1\" class=\"dataframe\">\n",
              "  <thead>\n",
              "    <tr style=\"text-align: right;\">\n",
              "      <th></th>\n",
              "      <th>id</th>\n",
              "      <th>count</th>\n",
              "      <th>hate_speech</th>\n",
              "      <th>offensive_language</th>\n",
              "      <th>neither</th>\n",
              "      <th>class</th>\n",
              "      <th>tweet</th>\n",
              "    </tr>\n",
              "  </thead>\n",
              "  <tbody>\n",
              "    <tr>\n",
              "      <th>0</th>\n",
              "      <td>0</td>\n",
              "      <td>3</td>\n",
              "      <td>0</td>\n",
              "      <td>0</td>\n",
              "      <td>3</td>\n",
              "      <td>2</td>\n",
              "      <td>!!! RT @mayasolovely: As a woman you shouldn't...</td>\n",
              "    </tr>\n",
              "    <tr>\n",
              "      <th>1</th>\n",
              "      <td>1</td>\n",
              "      <td>3</td>\n",
              "      <td>0</td>\n",
              "      <td>3</td>\n",
              "      <td>0</td>\n",
              "      <td>1</td>\n",
              "      <td>!!!!! RT @mleew17: boy dats cold...tyga dwn ba...</td>\n",
              "    </tr>\n",
              "    <tr>\n",
              "      <th>2</th>\n",
              "      <td>2</td>\n",
              "      <td>3</td>\n",
              "      <td>0</td>\n",
              "      <td>3</td>\n",
              "      <td>0</td>\n",
              "      <td>1</td>\n",
              "      <td>!!!!!!! RT @UrKindOfBrand Dawg!!!! RT @80sbaby...</td>\n",
              "    </tr>\n",
              "    <tr>\n",
              "      <th>3</th>\n",
              "      <td>3</td>\n",
              "      <td>3</td>\n",
              "      <td>0</td>\n",
              "      <td>2</td>\n",
              "      <td>1</td>\n",
              "      <td>1</td>\n",
              "      <td>!!!!!!!!! RT @C_G_Anderson: @viva_based she lo...</td>\n",
              "    </tr>\n",
              "    <tr>\n",
              "      <th>4</th>\n",
              "      <td>4</td>\n",
              "      <td>6</td>\n",
              "      <td>0</td>\n",
              "      <td>6</td>\n",
              "      <td>0</td>\n",
              "      <td>1</td>\n",
              "      <td>!!!!!!!!!!!!! RT @ShenikaRoberts: The shit you...</td>\n",
              "    </tr>\n",
              "    <tr>\n",
              "      <th>...</th>\n",
              "      <td>...</td>\n",
              "      <td>...</td>\n",
              "      <td>...</td>\n",
              "      <td>...</td>\n",
              "      <td>...</td>\n",
              "      <td>...</td>\n",
              "      <td>...</td>\n",
              "    </tr>\n",
              "    <tr>\n",
              "      <th>24778</th>\n",
              "      <td>25291</td>\n",
              "      <td>3</td>\n",
              "      <td>0</td>\n",
              "      <td>2</td>\n",
              "      <td>1</td>\n",
              "      <td>1</td>\n",
              "      <td>you's a muthaf***in lie &amp;#8220;@LifeAsKing: @2...</td>\n",
              "    </tr>\n",
              "    <tr>\n",
              "      <th>24779</th>\n",
              "      <td>25292</td>\n",
              "      <td>3</td>\n",
              "      <td>0</td>\n",
              "      <td>1</td>\n",
              "      <td>2</td>\n",
              "      <td>2</td>\n",
              "      <td>you've gone and broke the wrong heart baby, an...</td>\n",
              "    </tr>\n",
              "    <tr>\n",
              "      <th>24780</th>\n",
              "      <td>25294</td>\n",
              "      <td>3</td>\n",
              "      <td>0</td>\n",
              "      <td>3</td>\n",
              "      <td>0</td>\n",
              "      <td>1</td>\n",
              "      <td>young buck wanna eat!!.. dat nigguh like I ain...</td>\n",
              "    </tr>\n",
              "    <tr>\n",
              "      <th>24781</th>\n",
              "      <td>25295</td>\n",
              "      <td>6</td>\n",
              "      <td>0</td>\n",
              "      <td>6</td>\n",
              "      <td>0</td>\n",
              "      <td>1</td>\n",
              "      <td>youu got wild bitches tellin you lies</td>\n",
              "    </tr>\n",
              "    <tr>\n",
              "      <th>24782</th>\n",
              "      <td>25296</td>\n",
              "      <td>3</td>\n",
              "      <td>0</td>\n",
              "      <td>0</td>\n",
              "      <td>3</td>\n",
              "      <td>2</td>\n",
              "      <td>~~Ruffled | Ntac Eileen Dahlia - Beautiful col...</td>\n",
              "    </tr>\n",
              "  </tbody>\n",
              "</table>\n",
              "<p>24783 rows × 7 columns</p>\n",
              "</div>"
            ],
            "text/plain": [
              "          id  count  ...  class                                              tweet\n",
              "0          0      3  ...      2  !!! RT @mayasolovely: As a woman you shouldn't...\n",
              "1          1      3  ...      1  !!!!! RT @mleew17: boy dats cold...tyga dwn ba...\n",
              "2          2      3  ...      1  !!!!!!! RT @UrKindOfBrand Dawg!!!! RT @80sbaby...\n",
              "3          3      3  ...      1  !!!!!!!!! RT @C_G_Anderson: @viva_based she lo...\n",
              "4          4      6  ...      1  !!!!!!!!!!!!! RT @ShenikaRoberts: The shit you...\n",
              "...      ...    ...  ...    ...                                                ...\n",
              "24778  25291      3  ...      1  you's a muthaf***in lie &#8220;@LifeAsKing: @2...\n",
              "24779  25292      3  ...      2  you've gone and broke the wrong heart baby, an...\n",
              "24780  25294      3  ...      1  young buck wanna eat!!.. dat nigguh like I ain...\n",
              "24781  25295      6  ...      1              youu got wild bitches tellin you lies\n",
              "24782  25296      3  ...      2  ~~Ruffled | Ntac Eileen Dahlia - Beautiful col...\n",
              "\n",
              "[24783 rows x 7 columns]"
            ]
          },
          "metadata": {
            "tags": []
          },
          "execution_count": 39
        }
      ]
    },
    {
      "cell_type": "code",
      "metadata": {
        "id": "W6ADkaNo5QhW",
        "outputId": "8426c6ae-c9ef-4456-c00c-74950ac439bd",
        "colab": {
          "base_uri": "https://localhost:8080/"
        }
      },
      "source": [
        "print(\"number of tweets belonging to classes 0,1 and 2\")\n",
        "dataset.groupby('class')['id'].nunique()\n"
      ],
      "execution_count": 40,
      "outputs": [
        {
          "output_type": "stream",
          "text": [
            "number of tweets belonging to classes 0,1 and 2\n"
          ],
          "name": "stdout"
        },
        {
          "output_type": "execute_result",
          "data": {
            "text/plain": [
              "class\n",
              "0     1430\n",
              "1    19190\n",
              "2     4163\n",
              "Name: id, dtype: int64"
            ]
          },
          "metadata": {
            "tags": []
          },
          "execution_count": 40
        }
      ]
    },
    {
      "cell_type": "code",
      "metadata": {
        "id": "HNzXYxq96GI8",
        "outputId": "4e3e94e7-fe15-454b-9105-79b58bb3bd6a",
        "colab": {
          "base_uri": "https://localhost:8080/",
          "height": 309
        }
      },
      "source": [
        "dataset.groupby('class')['id'].nunique().plot(kind='bar',title='Plot of number of tweets belonging to a particular class')"
      ],
      "execution_count": 41,
      "outputs": [
        {
          "output_type": "execute_result",
          "data": {
            "text/plain": [
              "<matplotlib.axes._subplots.AxesSubplot at 0x7f20700bb898>"
            ]
          },
          "metadata": {
            "tags": []
          },
          "execution_count": 41
        },
        {
          "output_type": "display_data",
          "data": {
            "image/png": "[encoded data removed]",
            "text/plain": [
              "<Figure size 432x288 with 1 Axes>"
            ]
          },
          "metadata": {
            "tags": [],
            "needs_background": "light"
          }
        }
      ]
    },
    {
      "cell_type": "code",
      "metadata": {
        "id": "tCWrC5QPhRlp",
        "outputId": "87c6a323-4638-4bdb-e312-ec4b0b0927ef",
        "colab": {
          "base_uri": "https://localhost:8080/"
        }
      },
      "source": [
        "dataset0 = dataset[dataset['class'] == 0]\n",
        "dataset1 = dataset[dataset['class'] == 1]\n",
        "dataset2 = dataset[dataset['class'] == 2]\n",
        "\n",
        "count0 = dataset0.shape[0]\n",
        "count1 = dataset1.shape[0]\n",
        "count2 = dataset2.shape[0]\n",
        "print(count0, count1, count2)"
      ],
      "execution_count": 42,
      "outputs": [
        {
          "output_type": "stream",
          "text": [
            "1430 19190 4163\n"
          ],
          "name": "stdout"
        }
      ]
    },
    {
      "cell_type": "code",
      "metadata": {
        "id": "kgPqUU90hyU1",
        "outputId": "e30f22e6-9d1d-4274-f177-8c212ba8c60f",
        "colab": {
          "base_uri": "https://localhost:8080/",
          "height": 293
        }
      },
      "source": [
        "dataset1_under = dataset1.sample(count2)\n",
        "\n",
        "dataset = pd.concat([dataset0, dataset1_under, dataset2], axis = 0)\n",
        "dataset.head()"
      ],
      "execution_count": 43,
      "outputs": [
        {
          "output_type": "execute_result",
          "data": {
            "text/html": [
              "<div>\n",
              "<style scoped>\n",
              "    .dataframe tbody tr th:only-of-type {\n",
              "        vertical-align: middle;\n",
              "    }\n",
              "\n",
              "    .dataframe tbody tr th {\n",
              "        vertical-align: top;\n",
              "    }\n",
              "\n",
              "    .dataframe thead th {\n",
              "        text-align: right;\n",
              "    }\n",
              "</style>\n",
              "<table border=\"1\" class=\"dataframe\">\n",
              "  <thead>\n",
              "    <tr style=\"text-align: right;\">\n",
              "      <th></th>\n",
              "      <th>id</th>\n",
              "      <th>count</th>\n",
              "      <th>hate_speech</th>\n",
              "      <th>offensive_language</th>\n",
              "      <th>neither</th>\n",
              "      <th>class</th>\n",
              "      <th>tweet</th>\n",
              "    </tr>\n",
              "  </thead>\n",
              "  <tbody>\n",
              "    <tr>\n",
              "      <th>85</th>\n",
              "      <td>85</td>\n",
              "      <td>3</td>\n",
              "      <td>2</td>\n",
              "      <td>1</td>\n",
              "      <td>0</td>\n",
              "      <td>0</td>\n",
              "      <td>\"@Blackman38Tide: @WhaleLookyHere @HowdyDowdy1...</td>\n",
              "    </tr>\n",
              "    <tr>\n",
              "      <th>89</th>\n",
              "      <td>90</td>\n",
              "      <td>3</td>\n",
              "      <td>3</td>\n",
              "      <td>0</td>\n",
              "      <td>0</td>\n",
              "      <td>0</td>\n",
              "      <td>\"@CB_Baby24: @white_thunduh alsarabsss\" hes a ...</td>\n",
              "    </tr>\n",
              "    <tr>\n",
              "      <th>110</th>\n",
              "      <td>111</td>\n",
              "      <td>3</td>\n",
              "      <td>3</td>\n",
              "      <td>0</td>\n",
              "      <td>0</td>\n",
              "      <td>0</td>\n",
              "      <td>\"@DevilGrimz: @VigxRArts you're fucking gay, b...</td>\n",
              "    </tr>\n",
              "    <tr>\n",
              "      <th>184</th>\n",
              "      <td>186</td>\n",
              "      <td>3</td>\n",
              "      <td>3</td>\n",
              "      <td>0</td>\n",
              "      <td>0</td>\n",
              "      <td>0</td>\n",
              "      <td>\"@MarkRoundtreeJr: LMFAOOOO I HATE BLACK PEOPL...</td>\n",
              "    </tr>\n",
              "    <tr>\n",
              "      <th>202</th>\n",
              "      <td>204</td>\n",
              "      <td>3</td>\n",
              "      <td>2</td>\n",
              "      <td>1</td>\n",
              "      <td>0</td>\n",
              "      <td>0</td>\n",
              "      <td>\"@NoChillPaz: \"At least I'm not a nigger\" http...</td>\n",
              "    </tr>\n",
              "  </tbody>\n",
              "</table>\n",
              "</div>"
            ],
            "text/plain": [
              "      id  count  ...  class                                              tweet\n",
              "85    85      3  ...      0  \"@Blackman38Tide: @WhaleLookyHere @HowdyDowdy1...\n",
              "89    90      3  ...      0  \"@CB_Baby24: @white_thunduh alsarabsss\" hes a ...\n",
              "110  111      3  ...      0  \"@DevilGrimz: @VigxRArts you're fucking gay, b...\n",
              "184  186      3  ...      0  \"@MarkRoundtreeJr: LMFAOOOO I HATE BLACK PEOPL...\n",
              "202  204      3  ...      0  \"@NoChillPaz: \"At least I'm not a nigger\" http...\n",
              "\n",
              "[5 rows x 7 columns]"
            ]
          },
          "metadata": {
            "tags": []
          },
          "execution_count": 43
        }
      ]
    },
    {
      "cell_type": "code",
      "metadata": {
        "id": "aPiXJDe_lYHG",
        "outputId": "0761b9c2-2508-495f-92f5-ce33add44f89",
        "colab": {
          "base_uri": "https://localhost:8080/"
        }
      },
      "source": [
        "print(\"number of tweets belonging to classes 0,1 and 2\")\n",
        "dataset.groupby('class')['id'].nunique()\n"
      ],
      "execution_count": 44,
      "outputs": [
        {
          "output_type": "stream",
          "text": [
            "number of tweets belonging to classes 0,1 and 2\n"
          ],
          "name": "stdout"
        },
        {
          "output_type": "execute_result",
          "data": {
            "text/plain": [
              "class\n",
              "0    1430\n",
              "1    4163\n",
              "2    4163\n",
              "Name: id, dtype: int64"
            ]
          },
          "metadata": {
            "tags": []
          },
          "execution_count": 44
        }
      ]
    },
    {
      "cell_type": "code",
      "metadata": {
        "id": "AdpowK4ylc65",
        "outputId": "5aa2b0bb-5d2a-4224-ce61-1195dd890d1d",
        "colab": {
          "base_uri": "https://localhost:8080/",
          "height": 309
        }
      },
      "source": [
        "dataset.groupby('class')['id'].nunique().plot(kind='bar',title='Plot of number of tweets belonging to a particular class')"
      ],
      "execution_count": 45,
      "outputs": [
        {
          "output_type": "execute_result",
          "data": {
            "text/plain": [
              "<matplotlib.axes._subplots.AxesSubplot at 0x7f206f749860>"
            ]
          },
          "metadata": {
            "tags": []
          },
          "execution_count": 45
        },
        {
          "output_type": "display_data",
          "data": {
            "image/png": "[encoded data removed]",
            "text/plain": [
              "<Figure size 432x288 with 1 Axes>"
            ]
          },
          "metadata": {
            "tags": [],
            "needs_background": "light"
          }
        }
      ]
    },
    {
      "cell_type": "code",
      "metadata": {
        "id": "4ia01GxFlyho"
      },
      "source": [
        "dataset.to_csv('/content/drive/My Drive/resampled_dataset.csv')"
      ],
      "execution_count": 15,
      "outputs": []
    },
    {
      "cell_type": "markdown",
      "metadata": {
        "id": "zM4BnF7ETQUN"
      },
      "source": [
        "# **Data Cleaning**"
      ]
    },
    {
      "cell_type": "code",
      "metadata": {
        "id": "12kKtei07Cby"
      },
      "source": [
        "from nltk import tokenize\n",
        "from nltk.corpus import stopwords\n",
        "from nltk.tokenize import word_tokenize \n",
        "\n",
        "from gensim.models import Word2Vec\n",
        "\n",
        "from sklearn.model_selection import train_test_split"
      ],
      "execution_count": 46,
      "outputs": []
    },
    {
      "cell_type": "code",
      "metadata": {
        "id": "57lpaYlZ7W6b",
        "outputId": "f2d96c6f-65dd-4552-c342-17b0966e2e1e",
        "colab": {
          "base_uri": "https://localhost:8080/"
        }
      },
      "source": [
        "import nltk\n",
        "nltk.download('stopwords')"
      ],
      "execution_count": 47,
      "outputs": [
        {
          "output_type": "stream",
          "text": [
            "[nltk_data] Downloading package stopwords to /root/nltk_data...\n",
            "[nltk_data]   Package stopwords is already up-to-date!\n"
          ],
          "name": "stdout"
        },
        {
          "output_type": "execute_result",
          "data": {
            "text/plain": [
              "True"
            ]
          },
          "metadata": {
            "tags": []
          },
          "execution_count": 47
        }
      ]
    },
    {
      "cell_type": "code",
      "metadata": {
        "id": "D-NFmeRM7E1T"
      },
      "source": [
        "stop_words= set(stopwords.words('english'))"
      ],
      "execution_count": 48,
      "outputs": []
    },
    {
      "cell_type": "code",
      "metadata": {
        "id": "SRolts2eQtWd",
        "outputId": "3999ebea-b678-45d7-d5fb-77524f27554b",
        "colab": {
          "base_uri": "https://localhost:8080/"
        }
      },
      "source": [
        "import nltk\n",
        "nltk.download('punkt')"
      ],
      "execution_count": 49,
      "outputs": [
        {
          "output_type": "stream",
          "text": [
            "[nltk_data] Downloading package punkt to /root/nltk_data...\n",
            "[nltk_data]   Package punkt is already up-to-date!\n"
          ],
          "name": "stdout"
        },
        {
          "output_type": "execute_result",
          "data": {
            "text/plain": [
              "True"
            ]
          },
          "metadata": {
            "tags": []
          },
          "execution_count": 49
        }
      ]
    },
    {
      "cell_type": "code",
      "metadata": {
        "id": "1Ks21idy7j8b"
      },
      "source": [
        "def clean_tweet(tweet):\n",
        "    tweet = re.sub(\"#\", \"\",tweet) # Removing '#' from hashtags\n",
        "    tweet = re.sub(\"[^a-zA-Z#]\", \" \",tweet) # Removing punctuation and special characters\n",
        "    tweet = re.sub(r'http[s]?://(?:[a-z]|[0-9]|[$-_@.&amp;+]|[!*\\(\\),]|(?:%[0-9a-f][0-9a-f]))+',\"<URL>\", tweet)\n",
        "    tweet = re.sub('http','',tweet)\n",
        "    tweet = re.sub(\" +\", \" \", tweet)\n",
        "    tweet = tweet.lower()\n",
        "    tweet = word_tokenize(tweet)\n",
        "    return_tweet=[]\n",
        "    for word in tweet:\n",
        "        if word not in stop_words:\n",
        "            return_tweet.append(word)\n",
        "    return return_tweet\n",
        "dataset[\"tweet\"]=dataset[\"tweet\"].apply(clean_tweet)"
      ],
      "execution_count": 50,
      "outputs": []
    },
    {
      "cell_type": "markdown",
      "metadata": {
        "id": "fW-CYEDDRX9s"
      },
      "source": [
        "\n",
        "# **Word2Vec model to get the word embedings.**"
      ]
    },
    {
      "cell_type": "code",
      "metadata": {
        "id": "KVAUlPTgRdiP"
      },
      "source": [
        "model = Word2Vec(dataset[\"tweet\"].values, size=50, window=5, min_count=1, workers=4)"
      ],
      "execution_count": 51,
      "outputs": []
    },
    {
      "cell_type": "code",
      "metadata": {
        "id": "iQAlyU7DRmDT"
      },
      "source": [
        "def get_features(tweet):\n",
        "    features=[]\n",
        "    for word in tweet:\n",
        "        features.append(model.wv[word])\n",
        "    return np.mean(features,0)"
      ],
      "execution_count": 52,
      "outputs": []
    },
    {
      "cell_type": "code",
      "metadata": {
        "id": "PAF7_UcoRurV"
      },
      "source": [
        "dataset[\"features\"]=dataset[\"tweet\"].apply(get_features)"
      ],
      "execution_count": 53,
      "outputs": []
    },
    {
      "cell_type": "code",
      "metadata": {
        "id": "7ePsy5cHSBkl"
      },
      "source": [
        "data=[]\n",
        "for i in dataset[\"features\"].values:\n",
        "    temp=[]\n",
        "    for j in i:\n",
        "        temp.append(j)\n",
        "    data.append(temp)\n",
        "data=np.array(data)"
      ],
      "execution_count": 54,
      "outputs": []
    },
    {
      "cell_type": "code",
      "metadata": {
        "id": "k04GkOghSHrk"
      },
      "source": [
        "from sklearn.preprocessing import label_binarize\n",
        "\n",
        "Y = label_binarize(dataset[\"class\"].values, classes=[0, 1, 2])\n",
        "n_classes = Y.shape[1]\n",
        "X_train, X_test, y_train, y_test = train_test_split(data, Y, test_size=0.2, random_state=42)"
      ],
      "execution_count": 55,
      "outputs": []
    },
    {
      "cell_type": "code",
      "metadata": {
        "id": "hIeqtdzwSbKM",
        "outputId": "984db3c7-5855-49d8-bc9c-6f2a8a0118a9",
        "colab": {
          "base_uri": "https://localhost:8080/"
        }
      },
      "source": [
        "print(X_train)\n",
        "print(y_train)"
      ],
      "execution_count": 56,
      "outputs": [
        {
          "output_type": "stream",
          "text": [
            "[[ 2.3332307e-01 -1.8016039e-01 -2.1027438e-01 ...  4.8104893e-02\n",
            "  -1.2326883e-03 -1.3633351e-01]\n",
            " [ 2.6428220e-01 -2.0753844e-01 -2.3867933e-01 ...  5.1335398e-02\n",
            "  -2.1836488e-03 -1.5071563e-01]\n",
            " [ 6.2795800e-01 -4.8645940e-01 -5.5809444e-01 ...  1.1187654e-01\n",
            "   3.7142991e-03 -3.5209909e-01]\n",
            " ...\n",
            " [ 5.7918221e-01 -4.4496015e-01 -5.1466596e-01 ...  1.0742350e-01\n",
            "   5.6844787e-04 -3.3092803e-01]\n",
            " [ 3.8018209e-01 -2.8660423e-01 -3.3559188e-01 ...  7.2462976e-02\n",
            "   8.5337192e-04 -2.1802168e-01]\n",
            " [ 7.6789558e-01 -5.8197141e-01 -6.7981464e-01 ...  1.5071347e-01\n",
            "  -6.2024458e-03 -4.3529090e-01]]\n",
            "[[0 0 1]\n",
            " [0 0 1]\n",
            " [0 1 0]\n",
            " ...\n",
            " [0 1 0]\n",
            " [1 0 0]\n",
            " [0 0 1]]\n"
          ],
          "name": "stdout"
        }
      ]
    },
    {
      "cell_type": "markdown",
      "metadata": {
        "id": "tOyIgHzISsAT"
      },
      "source": [
        "# **LOGISTIC REGRESSION MODEL**"
      ]
    },
    {
      "cell_type": "code",
      "metadata": {
        "id": "SN5UHd_PSwxG"
      },
      "source": [
        "from sklearn.linear_model import LogisticRegression\n",
        "from sklearn.multiclass import OneVsRestClassifier\n",
        "from sklearn import svm\n",
        "from sklearn.metrics import f1_score\n",
        "from sklearn.metrics import recall_score\n",
        "from sklearn.metrics import precision_score\n",
        "from sklearn.metrics import precision_recall_curve\n",
        "import matplotlib.pyplot as plt\n",
        "import warnings\n",
        "warnings.filterwarnings('ignore')"
      ],
      "execution_count": 57,
      "outputs": []
    },
    {
      "cell_type": "code",
      "metadata": {
        "id": "Uk19QYlqS1w2",
        "outputId": "93e03c8b-7357-45c3-e64f-a4f09ad6e9e7",
        "colab": {
          "base_uri": "https://localhost:8080/",
          "height": 364
        }
      },
      "source": [
        "lr_clf = OneVsRestClassifier(LogisticRegression(random_state=0, solver='lbfgs',multi_class='multinomial'))\n",
        "lr_clf.fit(X_train,y_train)\n",
        "y_pred = lr_clf.predict(X_test)\n",
        "f = f1_score(y_test, y_pred, average='micro')\n",
        "print(\"F1 Score: \", f)\n",
        "p = precision_score(y_test, y_pred, average='micro')\n",
        "print(\"Precision Score: \", p)\n",
        "r = recall_score(y_test, y_pred, average='micro')\n",
        "print(\"Recall Score: \", r)\n",
        "print(\"Accuracy: \", lr_clf.score(X_test,y_test))\n",
        "\n",
        "y_score = lr_clf.predict_proba(X_test)\n",
        "precision = dict()\n",
        "recall = dict()\n",
        "for i in range(n_classes):\n",
        "    precision[i], recall[i], _ = precision_recall_curve(y_test[:, i],\n",
        "                                                        y_score[:, i])\n",
        "    plt.plot(recall[i], precision[i], lw=2, label='class {}'.format(i))\n",
        "\n",
        "plt.xlabel(\"Recall\")\n",
        "plt.ylabel(\"Precision\")\n",
        "plt.legend(loc = \"best\")\n",
        "plt.title(\"Precision vs. Recall curve\")\n",
        "plt.show()"
      ],
      "execution_count": 58,
      "outputs": [
        {
          "output_type": "stream",
          "text": [
            "F1 Score:  0.541970802919708\n",
            "Precision Score:  0.6669161676646707\n",
            "Recall Score:  0.45645491803278687\n",
            "Accuracy:  0.45645491803278687\n"
          ],
          "name": "stdout"
        },
        {
          "output_type": "display_data",
          "data": {
            "image/png": "[encoded data removed]",
            "text/plain": [
              "<Figure size 432x288 with 1 Axes>"
            ]
          },
          "metadata": {
            "tags": [],
            "needs_background": "light"
          }
        }
      ]
    },
    {
      "cell_type": "markdown",
      "metadata": {
        "id": "wwwhdkyWTbc0"
      },
      "source": [
        "# ***SVM MODEL***"
      ]
    },
    {
      "cell_type": "code",
      "metadata": {
        "id": "O3NHcj2_Texm",
        "outputId": "efcd19e6-23e1-47ef-dfb6-b97febc2428d",
        "colab": {
          "base_uri": "https://localhost:8080/",
          "height": 364
        }
      },
      "source": [
        "svm_clf = OneVsRestClassifier(svm.SVC(gamma='scale', probability=True))\n",
        "svm_clf.fit(X_train,y_train)\n",
        "y_pred = svm_clf.predict(X_test)\n",
        "f = f1_score(y_test, y_pred, average='micro')\n",
        "print(\"F1 Score: \", f)\n",
        "p = precision_score(y_test, y_pred, average='micro')\n",
        "print(\"Precision Score: \", p)\n",
        "r = recall_score(y_test, y_pred, average='micro')\n",
        "print(\"Recall Score: \", r)\n",
        "print(\"Accuracy: \", svm_clf.score(X_test,y_test))\n",
        "\n",
        "y_score = svm_clf.predict_proba(X_test)\n",
        "precision = dict()\n",
        "recall = dict()\n",
        "for i in range(n_classes):\n",
        "    precision[i], recall[i], _ = precision_recall_curve(y_test[:, i],\n",
        "                                                        y_score[:, i])\n",
        "    plt.plot(recall[i], precision[i], lw=2, label='class {}'.format(i))\n",
        "\n",
        "plt.xlabel(\"Recall\")\n",
        "plt.ylabel(\"Precision\")\n",
        "plt.legend(loc = \"center right\")\n",
        "plt.title(\"Precision vs. Recall curve\")\n",
        "plt.show()"
      ],
      "execution_count": 59,
      "outputs": [
        {
          "output_type": "stream",
          "text": [
            "F1 Score:  0.4894801980198021\n",
            "Precision Score:  0.61796875\n",
            "Recall Score:  0.4052254098360656\n",
            "Accuracy:  0.4052254098360656\n"
          ],
          "name": "stdout"
        },
        {
          "output_type": "display_data",
          "data": {
            "image/png": "[encoded data removed]",
            "text/plain": [
              "<Figure size 432x288 with 1 Axes>"
            ]
          },
          "metadata": {
            "tags": [],
            "needs_background": "light"
          }
        }
      ]
    },
    {
      "cell_type": "markdown",
      "metadata": {
        "id": "301zPMsHoXtf"
      },
      "source": [
        "<h2><b>BERT + CNN</b></h2>\n",
        "<h3><b>Data Cleaning for BERT</b><h3>"
      ]
    },
    {
      "cell_type": "code",
      "metadata": {
        "id": "oua_iKTMpchu",
        "outputId": "92b1163f-a3f0-4314-d97e-df0c8ba66db1",
        "colab": {
          "base_uri": "https://localhost:8080/"
        }
      },
      "source": [
        "!pip3 install transformers\n",
        "!pip3 install nltk"
      ],
      "execution_count": 60,
      "outputs": [
        {
          "output_type": "stream",
          "text": [
            "Requirement already satisfied: transformers in /usr/local/lib/python3.6/dist-packages (3.4.0)\n",
            "Requirement already satisfied: regex!=2019.12.17 in /usr/local/lib/python3.6/dist-packages (from transformers) (2019.12.20)\n",
            "Requirement already satisfied: filelock in /usr/local/lib/python3.6/dist-packages (from transformers) (3.0.12)\n",
            "Requirement already satisfied: requests in /usr/local/lib/python3.6/dist-packages (from transformers) (2.23.0)\n",
            "Requirement already satisfied: numpy in /usr/local/lib/python3.6/dist-packages (from transformers) (1.18.5)\n",
            "Requirement already satisfied: tokenizers==0.9.2 in /usr/local/lib/python3.6/dist-packages (from transformers) (0.9.2)\n",
            "Requirement already satisfied: packaging in /usr/local/lib/python3.6/dist-packages (from transformers) (20.4)\n",
            "Requirement already satisfied: dataclasses; python_version < \"3.7\" in /usr/local/lib/python3.6/dist-packages (from transformers) (0.7)\n",
            "Requirement already satisfied: sacremoses in /usr/local/lib/python3.6/dist-packages (from transformers) (0.0.43)\n",
            "Requirement already satisfied: sentencepiece!=0.1.92 in /usr/local/lib/python3.6/dist-packages (from transformers) (0.1.94)\n",
            "Requirement already satisfied: tqdm>=4.27 in /usr/local/lib/python3.6/dist-packages (from transformers) (4.41.1)\n",
            "Requirement already satisfied: protobuf in /usr/local/lib/python3.6/dist-packages (from transformers) (3.12.4)\n",
            "Requirement already satisfied: certifi>=2017.4.17 in /usr/local/lib/python3.6/dist-packages (from requests->transformers) (2020.6.20)\n",
            "Requirement already satisfied: chardet<4,>=3.0.2 in /usr/local/lib/python3.6/dist-packages (from requests->transformers) (3.0.4)\n",
            "Requirement already satisfied: idna<3,>=2.5 in /usr/local/lib/python3.6/dist-packages (from requests->transformers) (2.10)\n",
            "Requirement already satisfied: urllib3!=1.25.0,!=1.25.1,<1.26,>=1.21.1 in /usr/local/lib/python3.6/dist-packages (from requests->transformers) (1.24.3)\n",
            "Requirement already satisfied: six in /usr/local/lib/python3.6/dist-packages (from packaging->transformers) (1.15.0)\n",
            "Requirement already satisfied: pyparsing>=2.0.2 in /usr/local/lib/python3.6/dist-packages (from packaging->transformers) (2.4.7)\n",
            "Requirement already satisfied: click in /usr/local/lib/python3.6/dist-packages (from sacremoses->transformers) (7.1.2)\n",
            "Requirement already satisfied: joblib in /usr/local/lib/python3.6/dist-packages (from sacremoses->transformers) (0.17.0)\n",
            "Requirement already satisfied: setuptools in /usr/local/lib/python3.6/dist-packages (from protobuf->transformers) (50.3.2)\n",
            "Requirement already satisfied: nltk in /usr/local/lib/python3.6/dist-packages (3.2.5)\n",
            "Requirement already satisfied: six in /usr/local/lib/python3.6/dist-packages (from nltk) (1.15.0)\n"
          ],
          "name": "stdout"
        }
      ]
    },
    {
      "cell_type": "code",
      "metadata": {
        "id": "jIyB4AkqpoCD",
        "outputId": "29ce21ba-e07d-44e4-d7f1-596f20de7b65",
        "colab": {
          "base_uri": "https://localhost:8080/"
        }
      },
      "source": [
        "import numpy as np\n",
        "import torch.nn as nn\n",
        "import torch\n",
        "import torch.nn.functional as F\n",
        "import transformers\n",
        "import matplotlib.pyplot as plt\n",
        "import pandas as pd\n",
        "from torch.utils.data import TensorDataset,DataLoader\n",
        "from torch.autograd import Variable\n",
        "from sklearn.metrics import accuracy_score\n",
        "import nltk\n",
        "from nltk.stem import PorterStemmer\n",
        "from nltk.corpus import stopwords\n",
        "from nltk.tokenize import word_tokenize\n",
        "import re\n",
        "\n",
        "nltk.download('punkt')\n",
        "nltk.download('stopwords')\n",
        "nltk.download('averaged_perceptron_tagger')"
      ],
      "execution_count": 61,
      "outputs": [
        {
          "output_type": "stream",
          "text": [
            "[nltk_data] Downloading package punkt to /root/nltk_data...\n",
            "[nltk_data]   Package punkt is already up-to-date!\n",
            "[nltk_data] Downloading package stopwords to /root/nltk_data...\n",
            "[nltk_data]   Package stopwords is already up-to-date!\n",
            "[nltk_data] Downloading package averaged_perceptron_tagger to\n",
            "[nltk_data]     /root/nltk_data...\n",
            "[nltk_data]   Package averaged_perceptron_tagger is already up-to-\n",
            "[nltk_data]       date!\n"
          ],
          "name": "stdout"
        },
        {
          "output_type": "execute_result",
          "data": {
            "text/plain": [
              "True"
            ]
          },
          "metadata": {
            "tags": []
          },
          "execution_count": 61
        }
      ]
    },
    {
      "cell_type": "code",
      "metadata": {
        "id": "7ssl8E9voWuS"
      },
      "source": [
        "model_class = transformers.BertModel\n",
        "tokenizer_class = transformers.BertTokenizer\n",
        "pretrained_weights = 'bert-base-uncased'\n",
        "\n",
        "tokenizer = tokenizer_class.from_pretrained(pretrained_weights)\n",
        "bert_model = model_class.from_pretrained(pretrained_weights)\n"
      ],
      "execution_count": 62,
      "outputs": []
    },
    {
      "cell_type": "code",
      "metadata": {
        "id": "RNjHzAuRorZl"
      },
      "source": [
        "max_seq = 27\n",
        "def tokenize_text(df, max_seq):\n",
        "    return [\n",
        "        tokenizer.encode(text, add_special_tokens=True)[:max_seq] for text in df[\"tweet\"].values\n",
        "    ]\n",
        "def pad_text(tokenized_text, max_seq):\n",
        "    return np.array([el + [0] * (max_seq - len(el)) for el in tokenized_text])\n",
        "def tokenize_and_pad_text(df, max_seq):\n",
        "    tokenized_text = tokenize_text(df, max_seq)\n",
        "    padded_text = pad_text(tokenized_text, max_seq)\n",
        "    return torch.tensor(padded_text)\n",
        "def targets_to_tensor(df, target_columns):\n",
        "    return torch.tensor(df[target_columns].values, dtype=torch.float32)"
      ],
      "execution_count": 63,
      "outputs": []
    },
    {
      "cell_type": "code",
      "metadata": {
        "id": "gGUPIzNbosIq",
        "outputId": "fdcec152-ad4f-4f54-a57e-a50cdc4977a8",
        "colab": {
          "base_uri": "https://localhost:8080/"
        }
      },
      "source": [
        "max = 0\n",
        "for i in dataset[\"tweet\"]:\n",
        "  if len(i) > max:\n",
        "    max = len(i)\n",
        "print(max)\n"
      ],
      "execution_count": 64,
      "outputs": [
        {
          "output_type": "stream",
          "text": [
            "31\n"
          ],
          "name": "stdout"
        }
      ]
    },
    {
      "cell_type": "code",
      "metadata": {
        "id": "TbMZN2GLosNe"
      },
      "source": [
        "for i in range(0,len(dataset[\"tweet\"])):\n",
        "  dataset[\"tweet\"][i] = \" \".join(dataset[\"tweet\"][i])"
      ],
      "execution_count": null,
      "outputs": []
    },
    {
      "cell_type": "code",
      "metadata": {
        "id": "j7KSgUkYosRp",
        "outputId": "e7448cd9-3e6a-4d52-8925-c3d6f9d0d372",
        "colab": {
          "base_uri": "https://localhost:8080/"
        }
      },
      "source": [
        "dataset[\"tweet\"]"
      ],
      "execution_count": 66,
      "outputs": [
        {
          "output_type": "execute_result",
          "data": {
            "text/plain": [
              "85       [blackman, tide, whalelookyhere, howdydowdy, q...\n",
              "89       [cb, baby, white, thunduh, alsarabsss, hes, be...\n",
              "110      [devilgrimz, vigxrarts, fucking, gay, blacklis...\n",
              "184      [markroundtreejr, lmfaoooo, hate, black, peopl...\n",
              "202      [nochillpaz, least, nigger, co, rgja, cfoit, l...\n",
              "                               ...                        \n",
              "24736    [yaya, ho, cute, avi, tho, rt, vivala, ari, id...\n",
              "24737    [yea, n, tel, new, friend, friends, kno, allow...\n",
              "24767    [know, say, early, bird, gets, worm, puts, gum...\n",
              "24779    [gone, broke, wrong, heart, baby, drove, redne...\n",
              "24782    [ruffled, ntac, eileen, dahlia, beautiful, col...\n",
              "Name: tweet, Length: 9756, dtype: object"
            ]
          },
          "metadata": {
            "tags": []
          },
          "execution_count": 66
        }
      ]
    },
    {
      "cell_type": "code",
      "metadata": {
        "id": "ap303sdkoxlq"
      },
      "source": [
        "indices = tokenize_and_pad_text(dataset, max_seq)\n",
        "\n",
        "[no,_] = list(indices.shape)"
      ],
      "execution_count": 67,
      "outputs": []
    },
    {
      "cell_type": "code",
      "metadata": {
        "id": "CaQ2eniLoxr2"
      },
      "source": [
        "stepSize = 32\n",
        "X = np.empty([0,max_seq,768])\n",
        "\n",
        "for i in range(0,no,stepSize):\n",
        "  if no - i <= stepSize:\n",
        "    n = no\n",
        "  else:\n",
        "    n = i+stepSize\n",
        "  with torch.no_grad():\n",
        "    x = bert_model(indices[i:n,:])[0].detach().numpy()\n",
        "  X = np.vstack([X,x])"
      ],
      "execution_count": 68,
      "outputs": []
    },
    {
      "cell_type": "code",
      "metadata": {
        "id": "22h0bfmmoxvU"
      },
      "source": [
        "label_col = [\"class\"]\n",
        "Y = targets_to_tensor(dataset,label_col)"
      ],
      "execution_count": 69,
      "outputs": []
    },
    {
      "cell_type": "code",
      "metadata": {
        "id": "5BtrMaHbox0Z"
      },
      "source": [
        "x_train,x_val,y_train,y_val = train_test_split(X,Y,test_size=0.2,random_state=42)\n",
        "x_train = torch.tensor(x_train,dtype=torch.float32)\n",
        "x_val = torch.tensor(x_val,dtype=torch.float32)"
      ],
      "execution_count": 70,
      "outputs": []
    },
    {
      "cell_type": "code",
      "metadata": {
        "id": "8W3dIUkboxox"
      },
      "source": [
        "loss_func = nn.CrossEntropyLoss()"
      ],
      "execution_count": 71,
      "outputs": []
    },
    {
      "cell_type": "code",
      "metadata": {
        "id": "Y4qnGVrqpEN3"
      },
      "source": [
        "class HTSPC_CNN(nn.Module):\n",
        "    def __init__(self,embed_num,embed_dim,class_num,kernel_num,kernel_sizes,dropout,static):\n",
        "        super(HTSPC_CNN, self).__init__()\n",
        "        \n",
        "        V = embed_num\n",
        "        D = embed_dim\n",
        "        C = class_num\n",
        "        Co = kernel_num\n",
        "        Ks = kernel_sizes\n",
        "        \n",
        "        self.static = static\n",
        "        self.emed_layer = nn.Embedding(V, D)\n",
        "        \n",
        "        self.conv1 = nn.ModuleList([nn.Conv2d(1,Co,(K, D)) for K in Ks])\n",
        "        self.dropout = nn.Dropout(dropout)\n",
        "        \n",
        "        self.lin1 = nn.Linear(len(Ks)* Co, 3)\n",
        "        self.sigmoid = nn.Sigmoid()\n",
        "        \n",
        "        \n",
        "    def forward(self,xb):\n",
        "        if self.static:\n",
        "            x = Variable(xb)\n",
        "        x = x.unsqueeze(1)\n",
        "        \n",
        "        x = [F.relu(conv(x)).squeeze(3) for conv in self.conv1]\n",
        "        x = [F.max_pool1d(i, i.size(2)).squeeze(2) for i in x]\n",
        "        \n",
        "        x = torch.cat(x, 1)\n",
        "        x = self.dropout(x)\n",
        "        x = self.lin1(x)\n",
        "        return x"
      ],
      "execution_count": 73,
      "outputs": []
    },
    {
      "cell_type": "code",
      "metadata": {
        "id": "_H1dwONmpEV1"
      },
      "source": [
        "def loss_batch(model, loss_func, xb, yb, opt=None):\n",
        "    yb = yb.squeeze_()\n",
        "    # print(model(xb).squeeze_())\n",
        "    # print(yb)  \n",
        "    loss = loss_func(model(xb.float()), yb.long())\n",
        "\n",
        "    if opt is not None:\n",
        "        loss.backward()\n",
        "        opt.step()\n",
        "        opt.zero_grad()\n",
        "\n",
        "    return loss.item(), len(xb)"
      ],
      "execution_count": 74,
      "outputs": []
    },
    {
      "cell_type": "code",
      "metadata": {
        "id": "SlQBZhaEpEeA"
      },
      "source": [
        "def fit(epochs, model, loss_func, opt, train_dl, valid_dl):\n",
        "    for epoch in range(epochs):\n",
        "        model.train()\n",
        "        for xb, yb in train_dl:\n",
        "            loss_batch(model, loss_func, xb, yb, opt)\n",
        "\n",
        "        model.eval()\n",
        "        with torch.no_grad():\n",
        "            losses, nums = zip(\n",
        "                *[loss_batch(model, loss_func, xb, yb) for xb, yb in valid_dl]\n",
        "            )\n",
        "        val_loss = np.sum(np.multiply(losses, nums)) / np.sum(nums)\n",
        "\n",
        "        print(epoch, val_loss)"
      ],
      "execution_count": 75,
      "outputs": []
    },
    {
      "cell_type": "code",
      "metadata": {
        "id": "pr-8FkOCpJlY"
      },
      "source": [
        "def get_data(train_ds, valid_ds, bs):\n",
        "    return (\n",
        "        DataLoader(train_ds, batch_size=bs, shuffle=True),\n",
        "        DataLoader(valid_ds, batch_size=bs * 2),\n",
        "    )"
      ],
      "execution_count": 76,
      "outputs": []
    },
    {
      "cell_type": "code",
      "metadata": {
        "id": "pP4LgtvQpJtu",
        "outputId": "9fd25309-cc6e-4996-b830-8eccbda7f6a9",
        "colab": {
          "base_uri": "https://localhost:8080/"
        }
      },
      "source": [
        "bs = 128\n",
        "epochs = 50\n",
        "learning_rate = 0.0001\n",
        "\n",
        "train_dataset = TensorDataset(x_train, y_train)\n",
        "valid_dataset = TensorDataset(x_val  , y_val  )\n",
        "\n",
        "embed_num = x_train.shape[1]\n",
        "embed_dim = x_train.shape[2]\n",
        "class_num = y_train.shape[1]\n",
        "\n",
        "print(class_num)\n",
        "\n",
        "kernel_num = 3\n",
        "kernel_sizes = [2, 3, 4]\n",
        "dropout = 0.5\n",
        "static = True\n",
        "\n",
        "train_dl, valid_dl = get_data(train_dataset, valid_dataset, bs)\n",
        "model = HTSPC_CNN(embed_num,embed_dim,class_num,kernel_num,kernel_sizes,dropout,static)\n",
        "\n",
        "opt = torch.optim.Adam(model.parameters(), lr = learning_rate)\n",
        "fit(epochs, model, loss_func, opt, train_dl, valid_dl)\n"
      ],
      "execution_count": 77,
      "outputs": [
        {
          "output_type": "stream",
          "text": [
            "1\n",
            "0 1.0173227884730354\n",
            "1 0.9922809698542611\n",
            "2 0.9544156477099559\n",
            "3 0.9278687883595951\n",
            "4 0.9055814576930687\n",
            "5 0.8876323162532244\n",
            "6 0.8735788054153567\n",
            "7 0.8592680086855029\n",
            "8 0.8428153190456453\n",
            "9 0.8379321254667689\n",
            "10 0.8297982694672756\n",
            "11 0.8209365791961795\n",
            "12 0.8132107785490693\n",
            "13 0.8032997387354491\n",
            "14 0.799771963572893\n",
            "15 0.795743215279501\n",
            "16 0.790366744408842\n",
            "17 0.7850446935559883\n",
            "18 0.7824664418814612\n",
            "19 0.7781990248648847\n",
            "20 0.7726328255700283\n",
            "21 0.771253803714377\n",
            "22 0.7711600221571375\n",
            "23 0.7658186662392538\n",
            "24 0.7616971897297218\n",
            "25 0.7595422873731519\n",
            "26 0.7554735111408546\n",
            "27 0.7511640386503251\n",
            "28 0.7465235463908462\n",
            "29 0.7446471902190662\n",
            "30 0.7386685815013823\n",
            "31 0.738293321406255\n",
            "32 0.7341480870715907\n",
            "33 0.7311174273490906\n",
            "34 0.7290076642739968\n",
            "35 0.7263678664066753\n",
            "36 0.7286004854030297\n",
            "37 0.7219563331760344\n",
            "38 0.7215411721682939\n",
            "39 0.7152431734272691\n",
            "40 0.7175902167304617\n",
            "41 0.7168630771949643\n",
            "42 0.7163593104628266\n",
            "43 0.7122659292377409\n",
            "44 0.7097699378357559\n",
            "45 0.7111314466742219\n",
            "46 0.7099686304076773\n",
            "47 0.7075474359950081\n",
            "48 0.7070936462918266\n",
            "49 0.7036746750112439\n"
          ],
          "name": "stdout"
        }
      ]
    },
    {
      "cell_type": "code",
      "metadata": {
        "id": "EGZ3RahwpJ3o"
      },
      "source": [
        "_,preds = torch.max(model(x_val),1)"
      ],
      "execution_count": 78,
      "outputs": []
    },
    {
      "cell_type": "code",
      "metadata": {
        "id": "FvMhnsX4pSeA",
        "outputId": "7148c32a-88cb-4985-e663-d73a458843da",
        "colab": {
          "base_uri": "https://localhost:8080/"
        }
      },
      "source": [
        "print(accuracy_score(preds.detach().numpy(),y_val.detach().numpy()))"
      ],
      "execution_count": 79,
      "outputs": [
        {
          "output_type": "stream",
          "text": [
            "0.6997950819672131\n"
          ],
          "name": "stdout"
        }
      ]
    },
    {
      "cell_type": "code",
      "metadata": {
        "id": "mqhNi992pUit",
        "outputId": "cdfd3558-774f-44ce-d944-713a4604cf94",
        "colab": {
          "base_uri": "https://localhost:8080/"
        }
      },
      "source": [
        "f = f1_score(preds.detach().numpy(),y_val.detach().numpy(), average='weighted')\n",
        "print(\"F1 Score: \", f)\n",
        "p = precision_score(preds.detach().numpy(),y_val.detach().numpy(), average='weighted')\n",
        "print(\"Precision Score: \", p)\n",
        "r = recall_score(preds.detach().numpy(),y_val.detach().numpy(), average='micro')\n",
        "print(\"Recall Score: \", r)"
      ],
      "execution_count": 80,
      "outputs": [
        {
          "output_type": "stream",
          "text": [
            "F1 Score:  0.7575831141415115\n",
            "Precision Score:  0.8266487765568528\n",
            "Recall Score:  0.6997950819672131\n"
          ],
          "name": "stdout"
        }
      ]
    },
    {
      "cell_type": "markdown",
      "metadata": {
        "id": "tOFBeFZmP14s"
      },
      "source": [
        "<h2><b>LSTM</b><h2>"
      ]
    },
    {
      "cell_type": "code",
      "metadata": {
        "id": "5x0CvxCuPLuo"
      },
      "source": [
        "import pandas as pd\n",
        "import numpy as np\n",
        "import torch\n",
        "import re\n",
        "import tqdm\n",
        "from matplotlib._path import (affine_transform, count_bboxes_overlapping_bbox,\n",
        "     update_path_extents)"
      ],
      "execution_count": 97,
      "outputs": []
    },
    {
      "cell_type": "code",
      "metadata": {
        "id": "6lGj_pw9RkBB"
      },
      "source": [
        "dataset=pd.read_csv('/content/drive/My Drive/resampled_dataset.csv')\n",
        "dataset.dropna(inplace = True)"
      ],
      "execution_count": 98,
      "outputs": []
    },
    {
      "cell_type": "code",
      "metadata": {
        "id": "_E9e5dCMRpFy",
        "outputId": "a5c703fe-3d6d-43d9-8e2a-90885ee19805",
        "colab": {
          "base_uri": "https://localhost:8080/",
          "height": 667
        }
      },
      "source": [
        "dataset"
      ],
      "execution_count": 99,
      "outputs": [
        {
          "output_type": "execute_result",
          "data": {
            "text/html": [
              "<div>\n",
              "<style scoped>\n",
              "    .dataframe tbody tr th:only-of-type {\n",
              "        vertical-align: middle;\n",
              "    }\n",
              "\n",
              "    .dataframe tbody tr th {\n",
              "        vertical-align: top;\n",
              "    }\n",
              "\n",
              "    .dataframe thead th {\n",
              "        text-align: right;\n",
              "    }\n",
              "</style>\n",
              "<table border=\"1\" class=\"dataframe\">\n",
              "  <thead>\n",
              "    <tr style=\"text-align: right;\">\n",
              "      <th></th>\n",
              "      <th>Unnamed: 0</th>\n",
              "      <th>id</th>\n",
              "      <th>count</th>\n",
              "      <th>hate_speech</th>\n",
              "      <th>offensive_language</th>\n",
              "      <th>neither</th>\n",
              "      <th>class</th>\n",
              "      <th>tweet</th>\n",
              "    </tr>\n",
              "  </thead>\n",
              "  <tbody>\n",
              "    <tr>\n",
              "      <th>0</th>\n",
              "      <td>85</td>\n",
              "      <td>85</td>\n",
              "      <td>3</td>\n",
              "      <td>2</td>\n",
              "      <td>1</td>\n",
              "      <td>0</td>\n",
              "      <td>0</td>\n",
              "      <td>\"@Blackman38Tide: @WhaleLookyHere @HowdyDowdy1...</td>\n",
              "    </tr>\n",
              "    <tr>\n",
              "      <th>1</th>\n",
              "      <td>89</td>\n",
              "      <td>90</td>\n",
              "      <td>3</td>\n",
              "      <td>3</td>\n",
              "      <td>0</td>\n",
              "      <td>0</td>\n",
              "      <td>0</td>\n",
              "      <td>\"@CB_Baby24: @white_thunduh alsarabsss\" hes a ...</td>\n",
              "    </tr>\n",
              "    <tr>\n",
              "      <th>2</th>\n",
              "      <td>110</td>\n",
              "      <td>111</td>\n",
              "      <td>3</td>\n",
              "      <td>3</td>\n",
              "      <td>0</td>\n",
              "      <td>0</td>\n",
              "      <td>0</td>\n",
              "      <td>\"@DevilGrimz: @VigxRArts you're fucking gay, b...</td>\n",
              "    </tr>\n",
              "    <tr>\n",
              "      <th>3</th>\n",
              "      <td>184</td>\n",
              "      <td>186</td>\n",
              "      <td>3</td>\n",
              "      <td>3</td>\n",
              "      <td>0</td>\n",
              "      <td>0</td>\n",
              "      <td>0</td>\n",
              "      <td>\"@MarkRoundtreeJr: LMFAOOOO I HATE BLACK PEOPL...</td>\n",
              "    </tr>\n",
              "    <tr>\n",
              "      <th>4</th>\n",
              "      <td>202</td>\n",
              "      <td>204</td>\n",
              "      <td>3</td>\n",
              "      <td>2</td>\n",
              "      <td>1</td>\n",
              "      <td>0</td>\n",
              "      <td>0</td>\n",
              "      <td>\"@NoChillPaz: \"At least I'm not a nigger\" http...</td>\n",
              "    </tr>\n",
              "    <tr>\n",
              "      <th>...</th>\n",
              "      <td>...</td>\n",
              "      <td>...</td>\n",
              "      <td>...</td>\n",
              "      <td>...</td>\n",
              "      <td>...</td>\n",
              "      <td>...</td>\n",
              "      <td>...</td>\n",
              "      <td>...</td>\n",
              "    </tr>\n",
              "    <tr>\n",
              "      <th>9751</th>\n",
              "      <td>24736</td>\n",
              "      <td>25249</td>\n",
              "      <td>3</td>\n",
              "      <td>0</td>\n",
              "      <td>0</td>\n",
              "      <td>3</td>\n",
              "      <td>2</td>\n",
              "      <td>yaya ho.. cute avi tho RT @ViVaLa_Ari I had no...</td>\n",
              "    </tr>\n",
              "    <tr>\n",
              "      <th>9752</th>\n",
              "      <td>24737</td>\n",
              "      <td>25250</td>\n",
              "      <td>3</td>\n",
              "      <td>0</td>\n",
              "      <td>1</td>\n",
              "      <td>2</td>\n",
              "      <td>2</td>\n",
              "      <td>yea so about @N_tel 's new friend.. all my fri...</td>\n",
              "    </tr>\n",
              "    <tr>\n",
              "      <th>9753</th>\n",
              "      <td>24767</td>\n",
              "      <td>25280</td>\n",
              "      <td>3</td>\n",
              "      <td>0</td>\n",
              "      <td>1</td>\n",
              "      <td>2</td>\n",
              "      <td>2</td>\n",
              "      <td>you know what they say, the early bird gets th...</td>\n",
              "    </tr>\n",
              "    <tr>\n",
              "      <th>9754</th>\n",
              "      <td>24779</td>\n",
              "      <td>25292</td>\n",
              "      <td>3</td>\n",
              "      <td>0</td>\n",
              "      <td>1</td>\n",
              "      <td>2</td>\n",
              "      <td>2</td>\n",
              "      <td>you've gone and broke the wrong heart baby, an...</td>\n",
              "    </tr>\n",
              "    <tr>\n",
              "      <th>9755</th>\n",
              "      <td>24782</td>\n",
              "      <td>25296</td>\n",
              "      <td>3</td>\n",
              "      <td>0</td>\n",
              "      <td>0</td>\n",
              "      <td>3</td>\n",
              "      <td>2</td>\n",
              "      <td>~~Ruffled | Ntac Eileen Dahlia - Beautiful col...</td>\n",
              "    </tr>\n",
              "  </tbody>\n",
              "</table>\n",
              "<p>9756 rows × 8 columns</p>\n",
              "</div>"
            ],
            "text/plain": [
              "      Unnamed: 0  ...                                              tweet\n",
              "0             85  ...  \"@Blackman38Tide: @WhaleLookyHere @HowdyDowdy1...\n",
              "1             89  ...  \"@CB_Baby24: @white_thunduh alsarabsss\" hes a ...\n",
              "2            110  ...  \"@DevilGrimz: @VigxRArts you're fucking gay, b...\n",
              "3            184  ...  \"@MarkRoundtreeJr: LMFAOOOO I HATE BLACK PEOPL...\n",
              "4            202  ...  \"@NoChillPaz: \"At least I'm not a nigger\" http...\n",
              "...          ...  ...                                                ...\n",
              "9751       24736  ...  yaya ho.. cute avi tho RT @ViVaLa_Ari I had no...\n",
              "9752       24737  ...  yea so about @N_tel 's new friend.. all my fri...\n",
              "9753       24767  ...  you know what they say, the early bird gets th...\n",
              "9754       24779  ...  you've gone and broke the wrong heart baby, an...\n",
              "9755       24782  ...  ~~Ruffled | Ntac Eileen Dahlia - Beautiful col...\n",
              "\n",
              "[9756 rows x 8 columns]"
            ]
          },
          "metadata": {
            "tags": []
          },
          "execution_count": 99
        }
      ]
    },
    {
      "cell_type": "code",
      "metadata": {
        "id": "U8KsP2N-RueO"
      },
      "source": [
        "def clean_tweet(tweet):\n",
        "    tweet = re.sub(\"#\", \"\",tweet) # Removing '#' from hashtags\n",
        "    tweet = re.sub(\"[^a-zA-Z#]\", \" \",tweet) # Removing punctuation and special characters\n",
        "    tweet = re.sub(r'http[s]?://(?:[a-z]|[0-9]|[$-_@.&amp;+]|[!*\\(\\),]|(?:%[0-9a-f][0-9a-f]))+',\"<URL>\", tweet)\n",
        "    tweet = re.sub('http','',tweet)\n",
        "    tweet = re.sub(\" +\", \" \", tweet)\n",
        "    tweet = tweet.lower()\n",
        "    return tweet\n",
        "dataset[\"tweet\"]=dataset[\"tweet\"].apply(clean_tweet)"
      ],
      "execution_count": 100,
      "outputs": []
    },
    {
      "cell_type": "code",
      "metadata": {
        "id": "FjbyU72ZRyUd"
      },
      "source": [
        "dataset.rename(columns={\"tweet\":\"text\",\"class\":\"label\"},inplace=True)"
      ],
      "execution_count": 101,
      "outputs": []
    },
    {
      "cell_type": "code",
      "metadata": {
        "id": "VweUwleoR0yz",
        "outputId": "f154c1b5-59b6-4a19-b5c5-301d09c8ea4c",
        "colab": {
          "base_uri": "https://localhost:8080/",
          "height": 424
        }
      },
      "source": [
        "dataset = dataset.reindex(columns = ['label','text'])\n",
        "dataset"
      ],
      "execution_count": 102,
      "outputs": [
        {
          "output_type": "execute_result",
          "data": {
            "text/html": [
              "<div>\n",
              "<style scoped>\n",
              "    .dataframe tbody tr th:only-of-type {\n",
              "        vertical-align: middle;\n",
              "    }\n",
              "\n",
              "    .dataframe tbody tr th {\n",
              "        vertical-align: top;\n",
              "    }\n",
              "\n",
              "    .dataframe thead th {\n",
              "        text-align: right;\n",
              "    }\n",
              "</style>\n",
              "<table border=\"1\" class=\"dataframe\">\n",
              "  <thead>\n",
              "    <tr style=\"text-align: right;\">\n",
              "      <th></th>\n",
              "      <th>label</th>\n",
              "      <th>text</th>\n",
              "    </tr>\n",
              "  </thead>\n",
              "  <tbody>\n",
              "    <tr>\n",
              "      <th>0</th>\n",
              "      <td>0</td>\n",
              "      <td>blackman tide whalelookyhere howdydowdy queer...</td>\n",
              "    </tr>\n",
              "    <tr>\n",
              "      <th>1</th>\n",
              "      <td>0</td>\n",
              "      <td>cb baby white thunduh alsarabsss hes a beaner...</td>\n",
              "    </tr>\n",
              "    <tr>\n",
              "      <th>2</th>\n",
              "      <td>0</td>\n",
              "      <td>devilgrimz vigxrarts you re fucking gay black...</td>\n",
              "    </tr>\n",
              "    <tr>\n",
              "      <th>3</th>\n",
              "      <td>0</td>\n",
              "      <td>markroundtreejr lmfaoooo i hate black people ...</td>\n",
              "    </tr>\n",
              "    <tr>\n",
              "      <th>4</th>\n",
              "      <td>0</td>\n",
              "      <td>nochillpaz at least i m not a nigger t co rgj...</td>\n",
              "    </tr>\n",
              "    <tr>\n",
              "      <th>...</th>\n",
              "      <td>...</td>\n",
              "      <td>...</td>\n",
              "    </tr>\n",
              "    <tr>\n",
              "      <th>9751</th>\n",
              "      <td>2</td>\n",
              "      <td>yaya ho cute avi tho rt vivala ari i had no id...</td>\n",
              "    </tr>\n",
              "    <tr>\n",
              "      <th>9752</th>\n",
              "      <td>2</td>\n",
              "      <td>yea so about n tel s new friend all my friends...</td>\n",
              "    </tr>\n",
              "    <tr>\n",
              "      <th>9753</th>\n",
              "      <td>2</td>\n",
              "      <td>you know what they say the early bird gets the...</td>\n",
              "    </tr>\n",
              "    <tr>\n",
              "      <th>9754</th>\n",
              "      <td>2</td>\n",
              "      <td>you ve gone and broke the wrong heart baby and...</td>\n",
              "    </tr>\n",
              "    <tr>\n",
              "      <th>9755</th>\n",
              "      <td>2</td>\n",
              "      <td>ruffled ntac eileen dahlia beautiful color co...</td>\n",
              "    </tr>\n",
              "  </tbody>\n",
              "</table>\n",
              "<p>9756 rows × 2 columns</p>\n",
              "</div>"
            ],
            "text/plain": [
              "      label                                               text\n",
              "0         0   blackman tide whalelookyhere howdydowdy queer...\n",
              "1         0   cb baby white thunduh alsarabsss hes a beaner...\n",
              "2         0   devilgrimz vigxrarts you re fucking gay black...\n",
              "3         0   markroundtreejr lmfaoooo i hate black people ...\n",
              "4         0   nochillpaz at least i m not a nigger t co rgj...\n",
              "...     ...                                                ...\n",
              "9751      2  yaya ho cute avi tho rt vivala ari i had no id...\n",
              "9752      2  yea so about n tel s new friend all my friends...\n",
              "9753      2  you know what they say the early bird gets the...\n",
              "9754      2  you ve gone and broke the wrong heart baby and...\n",
              "9755      2   ruffled ntac eileen dahlia beautiful color co...\n",
              "\n",
              "[9756 rows x 2 columns]"
            ]
          },
          "metadata": {
            "tags": []
          },
          "execution_count": 102
        }
      ]
    },
    {
      "cell_type": "code",
      "metadata": {
        "id": "vEdT-rnHPL35"
      },
      "source": [
        "from sklearn.model_selection import train_test_split\n",
        "train_full,test = train_test_split(dataset,train_size=0.8)\n"
      ],
      "execution_count": 103,
      "outputs": []
    },
    {
      "cell_type": "code",
      "metadata": {
        "id": "vFoauKxsPL_5"
      },
      "source": [
        "train, val = train_test_split(train_full,train_size=0.75)"
      ],
      "execution_count": 104,
      "outputs": []
    },
    {
      "cell_type": "code",
      "metadata": {
        "id": "TFF3o2jmPMHe"
      },
      "source": [
        "train.to_csv(\"/content/drive/My Drive/train.csv\",index=False)\n",
        "test.to_csv(\"/content/drive/My Drive/test.csv\",index=False)\n",
        "val.to_csv(\"/content/drive/My Drive/valid.csv\",index=False)"
      ],
      "execution_count": 105,
      "outputs": []
    },
    {
      "cell_type": "code",
      "metadata": {
        "id": "rnIK4zHDPMRX"
      },
      "source": [
        "from torchtext.data import Field, TabularDataset, BucketIterator\n",
        "label_field = Field(sequential=False, use_vocab=False, batch_first=True, dtype=torch.float)\n",
        "text_field = Field(tokenize='spacy', lower=True, include_lengths=True, batch_first=True)"
      ],
      "execution_count": 106,
      "outputs": []
    },
    {
      "cell_type": "code",
      "metadata": {
        "id": "Xv3xf9rcPMOb"
      },
      "source": [
        "fields = [('label',label_field),('text', text_field)]"
      ],
      "execution_count": 107,
      "outputs": []
    },
    {
      "cell_type": "code",
      "metadata": {
        "id": "fsx15al7PML2"
      },
      "source": [
        "train, valid, test = TabularDataset.splits(path=\"./\", train = '/content/drive/My Drive/train.csv', validation = '/content/drive/My Drive/valid.csv', test = '/content/drive/My Drive/test.csv',\n",
        "                                           format='CSV', fields=fields, skip_header=True)"
      ],
      "execution_count": 108,
      "outputs": []
    },
    {
      "cell_type": "code",
      "metadata": {
        "id": "Q9_28M8RPMEh"
      },
      "source": [
        "train_iter = BucketIterator(train, batch_size=32, sort_key=lambda x: len(x.text),device=\"cpu\",\n",
        "                            sort=True, sort_within_batch=True)\n",
        "valid_iter = BucketIterator(valid, batch_size=32, sort_key=lambda x: len(x.text),device=\"cpu\",\n",
        "                            sort=True, sort_within_batch=True)\n",
        "test_iter = BucketIterator(test, batch_size=32, sort_key=lambda x: len(x.text),device=\"cpu\",\n",
        "                            sort=True, sort_within_batch=True)"
      ],
      "execution_count": 109,
      "outputs": []
    },
    {
      "cell_type": "code",
      "metadata": {
        "id": "-qQ684ACPL8y"
      },
      "source": [
        "text_field.build_vocab(train, min_freq=3)"
      ],
      "execution_count": 110,
      "outputs": []
    },
    {
      "cell_type": "code",
      "metadata": {
        "id": "ckpb6WRZPlF4"
      },
      "source": [
        "import torch.nn as nn\n",
        "from torch.nn.utils.rnn import pack_padded_sequence, pad_packed_sequence\n",
        "\n",
        "import torch.optim as optim\n",
        "\n",
        "class LSTM(nn.Module):\n",
        "\n",
        "    def __init__(self, dimension=128):\n",
        "        super(LSTM, self).__init__()\n",
        "\n",
        "        self.embedding = nn.Embedding(len(text_field.vocab), 300)\n",
        "        self.dimension = dimension\n",
        "        self.lstm = nn.LSTM(input_size=300,\n",
        "                            hidden_size=dimension,\n",
        "                            num_layers=3,\n",
        "                            batch_first=True,\n",
        "                            bidirectional=True)\n",
        "        self.drop = nn.Dropout(p=0.2)\n",
        "\n",
        "        self.fc = nn.Linear(2*dimension, 3)\n",
        "\n",
        "    def forward(self, text, text_len):\n",
        "\n",
        "        text_emb = self.embedding(text)\n",
        "\n",
        "        packed_input = pack_padded_sequence(text_emb, text_len, batch_first=True, enforce_sorted=False)\n",
        "        packed_output, _ = self.lstm(packed_input)\n",
        "        output, _ = pad_packed_sequence(packed_output, batch_first=True)\n",
        "\n",
        "        out_forward = output[range(len(output)), text_len - 1, :self.dimension]\n",
        "        out_reverse = output[:, 0, self.dimension:]\n",
        "        out_reduced = torch.cat((out_forward, out_reverse), 1)\n",
        "        text_fea = self.drop(out_reduced)\n",
        "\n",
        "        text_fea = self.fc(text_fea)\n",
        "        text_out = torch.softmax(text_fea,dim=1)\n",
        "\n",
        "        return text_out"
      ],
      "execution_count": 111,
      "outputs": []
    },
    {
      "cell_type": "code",
      "metadata": {
        "id": "qCbIw_AjPlOq"
      },
      "source": [
        "def save_checkpoint(save_path, model, optimizer, valid_loss):\n",
        "\n",
        "    if save_path == None:\n",
        "        return\n",
        "    \n",
        "    state_dict = {'model_state_dict': model.state_dict(),\n",
        "                  'optimizer_state_dict': optimizer.state_dict(),\n",
        "                  'valid_loss': valid_loss}\n",
        "    \n",
        "    torch.save(state_dict, save_path)\n",
        "    print(f'Model saved to ==> {save_path}')\n",
        "\n",
        "\n",
        "def load_checkpoint(load_path, model, optimizer):\n",
        "\n",
        "    if load_path==None:\n",
        "        return\n",
        "    \n",
        "    state_dict = torch.load(load_path, map_location=device)\n",
        "    print(f'Model loaded from <== {load_path}')\n",
        "    \n",
        "    model.load_state_dict(state_dict['model_state_dict'])\n",
        "    optimizer.load_state_dict(state_dict['optimizer_state_dict'])\n",
        "    \n",
        "    return state_dict['valid_loss']\n",
        "\n",
        "\n",
        "def save_metrics(save_path, train_loss_list, valid_loss_list, global_steps_list):\n",
        "\n",
        "    if save_path == None:\n",
        "        return\n",
        "    \n",
        "    state_dict = {'train_loss_list': train_loss_list,\n",
        "                  'valid_loss_list': valid_loss_list,\n",
        "                  'global_steps_list': global_steps_list}\n",
        "    \n",
        "    torch.save(state_dict, save_path)\n",
        "    print(f'Model saved to ==> {save_path}')\n",
        "\n",
        "\n",
        "def load_metrics(load_path):\n",
        "\n",
        "    if load_path==None:\n",
        "        return\n",
        "    \n",
        "    state_dict = torch.load(load_path, map_location=device)\n",
        "    print(f'Model loaded from <== {load_path}')\n",
        "    \n",
        "    return state_dict['train_loss_list'], state_dict['valid_loss_list'], state_dict['global_steps_list']"
      ],
      "execution_count": 112,
      "outputs": []
    },
    {
      "cell_type": "code",
      "metadata": {
        "id": "ygFevxgZPlV2",
        "outputId": "54380d95-2919-4ed9-c964-6e0286e0bbce",
        "colab": {
          "base_uri": "https://localhost:8080/"
        }
      },
      "source": [
        "from sklearn.preprocessing import label_binarize\n",
        "device = \"cpu\"\n",
        "def train_model(model,\n",
        "          optimizer,\n",
        "          criterion = nn.CrossEntropyLoss(),\n",
        "          train_loader = train_iter,\n",
        "          valid_loader = valid_iter,\n",
        "          num_epochs = 5,\n",
        "          eval_every = len(train_iter) // 2,\n",
        "          file_path = \"./\",\n",
        "          best_valid_loss = float(\"Inf\")):\n",
        "    \n",
        "    # initialize running values\n",
        "    running_loss = 0.0\n",
        "    valid_running_loss = 0.0\n",
        "    global_step = 0\n",
        "    train_loss_list = []\n",
        "    valid_loss_list = []\n",
        "    global_steps_list = []\n",
        "\n",
        "    # training loop\n",
        "    model.train()\n",
        "    for epoch in range(num_epochs):\n",
        "        for (labels,(tweet, tweet_len)), _ in train_loader:\n",
        "            tweet = tweet.to(device)\n",
        "            tweet_len = tweet_len.to(device)            \n",
        "            output = model(tweet, tweet_len)\n",
        "            labels = labels.long()\n",
        "            loss = criterion(output, labels)\n",
        "            optimizer.zero_grad()\n",
        "            loss.backward()\n",
        "            optimizer.step()\n",
        "\n",
        "            # update running values\n",
        "            running_loss += loss.item()\n",
        "            global_step += 1\n",
        "\n",
        "            # evaluation step\n",
        "            if global_step % eval_every == 0:\n",
        "                model.eval()\n",
        "                with torch.no_grad():                    \n",
        "                  # validation loop\n",
        "                  for (labels,(tweet, tweet_len)), _ in valid_loader:\n",
        "                        tweet = tweet.to(device)\n",
        "                        tweet_len = tweet_len.to(device)\n",
        "                        output = model(tweet, tweet_len)\n",
        "                        labels = labels.long()\n",
        "                        loss = criterion(output, labels)\n",
        "                        valid_running_loss += loss.item()\n",
        "\n",
        "                # evaluation\n",
        "                average_train_loss = running_loss / eval_every\n",
        "                average_valid_loss = valid_running_loss / len(valid_loader)\n",
        "                train_loss_list.append(average_train_loss)\n",
        "                valid_loss_list.append(average_valid_loss)\n",
        "                global_steps_list.append(global_step)\n",
        "\n",
        "                # resetting running values\n",
        "                running_loss = 0.0                \n",
        "                valid_running_loss = 0.0\n",
        "                model.train()\n",
        "\n",
        "                # print progress\n",
        "                print('Epoch [{}/{}], Step [{}/{}], Train Loss: {:.4f}, Valid Loss: {:.4f}'\n",
        "                      .format(epoch+1, num_epochs, global_step, num_epochs*len(train_loader),\n",
        "                              average_train_loss, average_valid_loss))\n",
        "                \n",
        "                # checkpoint\n",
        "                if best_valid_loss > average_valid_loss:\n",
        "                    best_valid_loss = average_valid_loss\n",
        "                    save_checkpoint(file_path + '/model.pt', model, optimizer, best_valid_loss)\n",
        "                    save_metrics(file_path + '/metrics.pt', train_loss_list, valid_loss_list, global_steps_list)\n",
        "    \n",
        "    save_metrics(file_path + '/metrics.pt', train_loss_list, valid_loss_list, global_steps_list)\n",
        "    print('Finished Training!')\n",
        "\n",
        "\n",
        "model = LSTM().to(device)\n",
        "optimizer = optim.Adam(model.parameters(), lr=0.001)\n",
        "\n",
        "train_model(model=model, optimizer=optimizer, num_epochs=10)"
      ],
      "execution_count": 113,
      "outputs": [
        {
          "output_type": "stream",
          "text": [
            "Epoch [1/10], Step [91/1830], Train Loss: 0.8289, Valid Loss: 0.7674\n",
            "Model saved to ==> .//model.pt\n",
            "Model saved to ==> .//metrics.pt\n",
            "Epoch [1/10], Step [182/1830], Train Loss: 0.8015, Valid Loss: 0.7741\n",
            "Epoch [2/10], Step [273/1830], Train Loss: 0.7307, Valid Loss: 0.7554\n",
            "Model saved to ==> .//model.pt\n",
            "Model saved to ==> .//metrics.pt\n",
            "Epoch [2/10], Step [364/1830], Train Loss: 0.7529, Valid Loss: 0.7736\n",
            "Epoch [3/10], Step [455/1830], Train Loss: 0.7007, Valid Loss: 0.7301\n",
            "Model saved to ==> .//model.pt\n",
            "Model saved to ==> .//metrics.pt\n",
            "Epoch [3/10], Step [546/1830], Train Loss: 0.7428, Valid Loss: 0.7349\n",
            "Epoch [4/10], Step [637/1830], Train Loss: 0.6934, Valid Loss: 0.7282\n",
            "Model saved to ==> .//model.pt\n",
            "Model saved to ==> .//metrics.pt\n",
            "Epoch [4/10], Step [728/1830], Train Loss: 0.7723, Valid Loss: 0.8229\n",
            "Epoch [5/10], Step [819/1830], Train Loss: 0.7373, Valid Loss: 0.7470\n",
            "Epoch [5/10], Step [910/1830], Train Loss: 0.7336, Valid Loss: 0.7322\n",
            "Epoch [6/10], Step [1001/1830], Train Loss: 0.6896, Valid Loss: 0.7195\n",
            "Model saved to ==> .//model.pt\n",
            "Model saved to ==> .//metrics.pt\n",
            "Epoch [6/10], Step [1092/1830], Train Loss: 0.7155, Valid Loss: 0.7172\n",
            "Model saved to ==> .//model.pt\n",
            "Model saved to ==> .//metrics.pt\n",
            "Epoch [7/10], Step [1183/1830], Train Loss: 0.6813, Valid Loss: 0.7187\n",
            "Epoch [7/10], Step [1274/1830], Train Loss: 0.6963, Valid Loss: 0.7215\n",
            "Epoch [8/10], Step [1365/1830], Train Loss: 0.6845, Valid Loss: 0.7187\n",
            "Epoch [8/10], Step [1456/1830], Train Loss: 0.6993, Valid Loss: 0.7097\n",
            "Model saved to ==> .//model.pt\n",
            "Model saved to ==> .//metrics.pt\n",
            "Epoch [9/10], Step [1547/1830], Train Loss: 0.6788, Valid Loss: 0.7149\n",
            "Epoch [9/10], Step [1638/1830], Train Loss: 0.6901, Valid Loss: 0.7169\n",
            "Epoch [10/10], Step [1729/1830], Train Loss: 0.6749, Valid Loss: 0.7157\n",
            "Epoch [10/10], Step [1820/1830], Train Loss: 0.6860, Valid Loss: 0.7156\n",
            "Model saved to ==> .//metrics.pt\n",
            "Finished Training!\n"
          ],
          "name": "stdout"
        }
      ]
    },
    {
      "cell_type": "code",
      "metadata": {
        "id": "tcXyFS9JPwaS",
        "outputId": "a17b6aa6-f32c-45ff-c5ee-fd87b9ee665e",
        "colab": {
          "base_uri": "https://localhost:8080/",
          "height": 296
        }
      },
      "source": [
        "import matplotlib.pyplot as plt\n",
        "train_loss_list, valid_loss_list, global_steps_list = load_metrics(\".\" + '/metrics.pt')\n",
        "plt.plot(global_steps_list, train_loss_list, label='Train')\n",
        "plt.plot(global_steps_list, valid_loss_list, label='Valid')\n",
        "plt.xlabel('Global Steps')\n",
        "plt.ylabel('Loss')\n",
        "plt.legend()\n",
        "plt.show()"
      ],
      "execution_count": 114,
      "outputs": [
        {
          "output_type": "stream",
          "text": [
            "Model loaded from <== ./metrics.pt\n"
          ],
          "name": "stdout"
        },
        {
          "output_type": "display_data",
          "data": {
            "image/png": "[encoded data removed]",
            "text/plain": [
              "<Figure size 432x288 with 1 Axes>"
            ]
          },
          "metadata": {
            "tags": [],
            "needs_background": "light"
          }
        }
      ]
    },
    {
      "cell_type": "code",
      "metadata": {
        "id": "VoYAXD8NPwit",
        "outputId": "93b1ea74-9548-40c3-960a-ff910d852522",
        "colab": {
          "base_uri": "https://localhost:8080/"
        }
      },
      "source": [
        "def evaluate(model, test_loader, version='title', threshold=0.5):\n",
        "    y_pred = []\n",
        "    y_true = []\n",
        "\n",
        "    model.eval()\n",
        "    with torch.no_grad():\n",
        "        correct = 0\n",
        "        for (labels, (tweet, tweet_len)), _ in test_loader:           \n",
        "            labels = labels.long()\n",
        "            tweet = tweet.to(device)\n",
        "            tweet_len = tweet_len.to(device)\n",
        "            output = model(tweet, tweet_len)\n",
        "\n",
        "            output = torch.argmax(output,dim=1)\n",
        "            y_pred.extend(output.tolist())\n",
        "            y_true.extend(labels.tolist())\n",
        "        for i,val in enumerate(y_pred):\n",
        "            if y_true[i]==y_pred[i]:\n",
        "                correct+=1\n",
        "        print(\"Accuracy\",correct/len(y_pred))\n",
        "    \n",
        "best_model = LSTM().to(device)\n",
        "optimizer = optim.Adam(best_model.parameters(), lr=0.001)\n",
        "\n",
        "load_checkpoint(\".\" + '/model.pt', best_model, optimizer)\n",
        "evaluate(best_model, test_iter)"
      ],
      "execution_count": 115,
      "outputs": [
        {
          "output_type": "stream",
          "text": [
            "Model loaded from <== ./model.pt\n",
            "Accuracy 0.8345286885245902\n"
          ],
          "name": "stdout"
        }
      ]
    }
  ]
}